{
 "cells": [
  {
   "cell_type": "markdown",
   "id": "7fe40255",
   "metadata": {
    "id": "7fe40255"
   },
   "source": [
    "# 140. User-Item based Collaborative Filtering - Matrix Factorization\n",
    "\n",
    "## Keras로 MF(Matrix Factorization) 구현하기\n",
    "\n",
    "\n",
    "### MF 방식의 원리\n",
    "\n",
    "<img src=\"https://petamind.com/wp-content/uploads/2019/12/ml-mf-matrix-factorization-_op.svg\" width=400 />\n",
    "\n",
    "$$R \\approx P\\times Q^T=\\hat{R}$$\n",
    "\n",
    "R: Rating matrix, P: User latent matrix, Q: Item latent matrix, k: latent factor(잠재 요인), $\\hat{R}$: 예측값\n",
    "\n",
    "- R 행렬의 각 element는 해당 사용자 아이템에 대한 평점. 이 행렬은 사용자가 실제로 평가한 아이템에 대한 평점만을 가지고 있으므로 많은 원소가 null 로 채워진 sparse matrix 이다.\n",
    "- R 행렬을 사용자 행렬 (P)와 아이템 행렬(Q)로 쪼개어 분석하는 방법이  MF  \n",
    "- $\\hat{R}$이 최대한 R에 가까운 값을 가지도록 하는 P와 Q를 구하면 그 것이 바로 추천을 위한 model이 된다.\n",
    "\n",
    "$$\\hat{r_{ij}}=b+bu_i + bd_j + \\sum_{k=1}^k{p_{ik}q_{kj}}$$\n",
    "\n",
    "$\\hat{r_{ij}}$: 사용자 i 의 아이템 j 에  대한 예측값,  \n",
    "b: 전체 평균. 일단 데이터가 주어지면 하나로 정해지는 값   \n",
    "$bu_i$: 전체 평균을 제거한 후 사용자 i의 평가 경향(사용자 i의 평균과 전체 평균의 차이)     \n",
    "$bd_j$: 전체 평균을 제거한 후 아이템 j의 평가 경향(아이템 j의 평균과 전체 평균의 차이)   \n",
    "$p_{ik}$: 행렬 P의 i 번째 사용자 vector    \n",
    "$q_{kj}$: 행렬 Q의 column j 번째 item vector\n",
    "\n",
    "### MF 를 신경망으로 구현\n",
    "\n",
    "<img src=\"https://ichi.pro/assets/images/max/724/1*VqQ5B6ah4KhbDKNBgX-cfg.png\" />\n",
    "\n",
    "- Input Layer 는 one-hot-encoding 과 같다. \n",
    "- Embedding Layer 는 latent factor d 에 해당.  \n",
    "- 사용자와 아이템의 경향성(bias)을 feature 가 1 인  Embedding 으로 구현  \n",
    "- 전체 평균(b)는 하나의 숫자이므로 신경망의 target value에서 일률적으로 빼 주고, 나중에 산출된 예측치에 일률적으로 더해주는 것이 전체 평균을 모델화 하는 것 보다 간단함."
   ]
  },
  {
   "cell_type": "code",
   "execution_count": 1,
   "id": "2461d83d",
   "metadata": {
    "colab": {
     "base_uri": "https://localhost:8080/",
     "height": 206
    },
    "id": "2461d83d",
    "outputId": "219597f8-deba-4e50-d646-d3c4cbf30f5a"
   },
   "outputs": [
    {
     "data": {
      "text/html": [
       "<div>\n",
       "<style scoped>\n",
       "    .dataframe tbody tr th:only-of-type {\n",
       "        vertical-align: middle;\n",
       "    }\n",
       "\n",
       "    .dataframe tbody tr th {\n",
       "        vertical-align: top;\n",
       "    }\n",
       "\n",
       "    .dataframe thead th {\n",
       "        text-align: right;\n",
       "    }\n",
       "</style>\n",
       "<table border=\"1\" class=\"dataframe\">\n",
       "  <thead>\n",
       "    <tr style=\"text-align: right;\">\n",
       "      <th></th>\n",
       "      <th>user_id</th>\n",
       "      <th>movie_id</th>\n",
       "      <th>rating</th>\n",
       "    </tr>\n",
       "  </thead>\n",
       "  <tbody>\n",
       "    <tr>\n",
       "      <th>0</th>\n",
       "      <td>196</td>\n",
       "      <td>242</td>\n",
       "      <td>3</td>\n",
       "    </tr>\n",
       "    <tr>\n",
       "      <th>1</th>\n",
       "      <td>186</td>\n",
       "      <td>302</td>\n",
       "      <td>3</td>\n",
       "    </tr>\n",
       "    <tr>\n",
       "      <th>2</th>\n",
       "      <td>22</td>\n",
       "      <td>377</td>\n",
       "      <td>1</td>\n",
       "    </tr>\n",
       "    <tr>\n",
       "      <th>3</th>\n",
       "      <td>244</td>\n",
       "      <td>51</td>\n",
       "      <td>2</td>\n",
       "    </tr>\n",
       "    <tr>\n",
       "      <th>4</th>\n",
       "      <td>166</td>\n",
       "      <td>346</td>\n",
       "      <td>1</td>\n",
       "    </tr>\n",
       "  </tbody>\n",
       "</table>\n",
       "</div>"
      ],
      "text/plain": [
       "   user_id  movie_id  rating\n",
       "0      196       242       3\n",
       "1      186       302       3\n",
       "2       22       377       1\n",
       "3      244        51       2\n",
       "4      166       346       1"
      ]
     },
     "execution_count": 1,
     "metadata": {},
     "output_type": "execute_result"
    }
   ],
   "source": [
    "import pandas as pd\n",
    "import numpy as np\n",
    "import tensorflow as tf\n",
    "from sklearn.metrics import mean_squared_error\n",
    "from sklearn.model_selection import train_test_split\n",
    "import matplotlib.pyplot as plt\n",
    "from tensorflow.keras import layers\n",
    "from tensorflow.keras.models import Model\n",
    "from tensorflow.keras.layers import Input, Embedding, Dot, Add, Flatten,  Concatenate, Dense\n",
    "\n",
    "r_cols = ['user_id', 'movie_id', 'rating', 'timestamp']\n",
    "ratings = pd.read_csv('data/u.rating', names=r_cols,  sep='\\t',encoding='latin-1')\n",
    "ratings = ratings[['user_id', 'movie_id', 'rating']].astype(int)            # timestamp 제거\n",
    "ratings.head()"
   ]
  },
  {
   "cell_type": "code",
   "execution_count": 2,
   "id": "a7f46c87",
   "metadata": {},
   "outputs": [
    {
     "data": {
      "text/html": [
       "<div>\n",
       "<style scoped>\n",
       "    .dataframe tbody tr th:only-of-type {\n",
       "        vertical-align: middle;\n",
       "    }\n",
       "\n",
       "    .dataframe tbody tr th {\n",
       "        vertical-align: top;\n",
       "    }\n",
       "\n",
       "    .dataframe thead th {\n",
       "        text-align: right;\n",
       "    }\n",
       "</style>\n",
       "<table border=\"1\" class=\"dataframe\">\n",
       "  <thead>\n",
       "    <tr style=\"text-align: right;\">\n",
       "      <th></th>\n",
       "      <th>user_id</th>\n",
       "      <th>age</th>\n",
       "      <th>sex</th>\n",
       "      <th>occupation</th>\n",
       "    </tr>\n",
       "  </thead>\n",
       "  <tbody>\n",
       "    <tr>\n",
       "      <th>0</th>\n",
       "      <td>1</td>\n",
       "      <td>0.328767</td>\n",
       "      <td>M</td>\n",
       "      <td>technician</td>\n",
       "    </tr>\n",
       "    <tr>\n",
       "      <th>1</th>\n",
       "      <td>2</td>\n",
       "      <td>0.726027</td>\n",
       "      <td>F</td>\n",
       "      <td>other</td>\n",
       "    </tr>\n",
       "    <tr>\n",
       "      <th>2</th>\n",
       "      <td>3</td>\n",
       "      <td>0.315068</td>\n",
       "      <td>M</td>\n",
       "      <td>writer</td>\n",
       "    </tr>\n",
       "    <tr>\n",
       "      <th>3</th>\n",
       "      <td>4</td>\n",
       "      <td>0.328767</td>\n",
       "      <td>M</td>\n",
       "      <td>technician</td>\n",
       "    </tr>\n",
       "    <tr>\n",
       "      <th>4</th>\n",
       "      <td>5</td>\n",
       "      <td>0.452055</td>\n",
       "      <td>F</td>\n",
       "      <td>other</td>\n",
       "    </tr>\n",
       "  </tbody>\n",
       "</table>\n",
       "</div>"
      ],
      "text/plain": [
       "   user_id       age sex  occupation\n",
       "0        1  0.328767   M  technician\n",
       "1        2  0.726027   F       other\n",
       "2        3  0.315068   M      writer\n",
       "3        4  0.328767   M  technician\n",
       "4        5  0.452055   F       other"
      ]
     },
     "execution_count": 2,
     "metadata": {},
     "output_type": "execute_result"
    }
   ],
   "source": [
    "u_cols = ['user_id', 'age', 'sex', 'occupation', 'zip_code']\n",
    "users = pd.read_csv('data/u.user', sep='|', names=u_cols, encoding='latin-1')\n",
    "users = users[['user_id', 'age', 'sex', 'occupation']]\n",
    "users['age'] /= users['age'].max()\n",
    "users.head()"
   ]
  },
  {
   "cell_type": "code",
   "execution_count": 3,
   "id": "db852905",
   "metadata": {},
   "outputs": [
    {
     "data": {
      "text/html": [
       "<div>\n",
       "<style scoped>\n",
       "    .dataframe tbody tr th:only-of-type {\n",
       "        vertical-align: middle;\n",
       "    }\n",
       "\n",
       "    .dataframe tbody tr th {\n",
       "        vertical-align: top;\n",
       "    }\n",
       "\n",
       "    .dataframe thead th {\n",
       "        text-align: right;\n",
       "    }\n",
       "</style>\n",
       "<table border=\"1\" class=\"dataframe\">\n",
       "  <thead>\n",
       "    <tr style=\"text-align: right;\">\n",
       "      <th></th>\n",
       "      <th>user_id</th>\n",
       "      <th>movie_id</th>\n",
       "      <th>rating</th>\n",
       "      <th>age</th>\n",
       "      <th>sex_F</th>\n",
       "      <th>sex_M</th>\n",
       "      <th>occupation_administrator</th>\n",
       "      <th>occupation_artist</th>\n",
       "      <th>occupation_doctor</th>\n",
       "      <th>occupation_educator</th>\n",
       "      <th>...</th>\n",
       "      <th>occupation_marketing</th>\n",
       "      <th>occupation_none</th>\n",
       "      <th>occupation_other</th>\n",
       "      <th>occupation_programmer</th>\n",
       "      <th>occupation_retired</th>\n",
       "      <th>occupation_salesman</th>\n",
       "      <th>occupation_scientist</th>\n",
       "      <th>occupation_student</th>\n",
       "      <th>occupation_technician</th>\n",
       "      <th>occupation_writer</th>\n",
       "    </tr>\n",
       "  </thead>\n",
       "  <tbody>\n",
       "    <tr>\n",
       "      <th>0</th>\n",
       "      <td>196</td>\n",
       "      <td>242</td>\n",
       "      <td>3</td>\n",
       "      <td>0.671233</td>\n",
       "      <td>0</td>\n",
       "      <td>1</td>\n",
       "      <td>0</td>\n",
       "      <td>0</td>\n",
       "      <td>0</td>\n",
       "      <td>0</td>\n",
       "      <td>...</td>\n",
       "      <td>0</td>\n",
       "      <td>0</td>\n",
       "      <td>0</td>\n",
       "      <td>0</td>\n",
       "      <td>0</td>\n",
       "      <td>0</td>\n",
       "      <td>0</td>\n",
       "      <td>0</td>\n",
       "      <td>0</td>\n",
       "      <td>1</td>\n",
       "    </tr>\n",
       "    <tr>\n",
       "      <th>1</th>\n",
       "      <td>196</td>\n",
       "      <td>393</td>\n",
       "      <td>4</td>\n",
       "      <td>0.671233</td>\n",
       "      <td>0</td>\n",
       "      <td>1</td>\n",
       "      <td>0</td>\n",
       "      <td>0</td>\n",
       "      <td>0</td>\n",
       "      <td>0</td>\n",
       "      <td>...</td>\n",
       "      <td>0</td>\n",
       "      <td>0</td>\n",
       "      <td>0</td>\n",
       "      <td>0</td>\n",
       "      <td>0</td>\n",
       "      <td>0</td>\n",
       "      <td>0</td>\n",
       "      <td>0</td>\n",
       "      <td>0</td>\n",
       "      <td>1</td>\n",
       "    </tr>\n",
       "    <tr>\n",
       "      <th>2</th>\n",
       "      <td>196</td>\n",
       "      <td>381</td>\n",
       "      <td>4</td>\n",
       "      <td>0.671233</td>\n",
       "      <td>0</td>\n",
       "      <td>1</td>\n",
       "      <td>0</td>\n",
       "      <td>0</td>\n",
       "      <td>0</td>\n",
       "      <td>0</td>\n",
       "      <td>...</td>\n",
       "      <td>0</td>\n",
       "      <td>0</td>\n",
       "      <td>0</td>\n",
       "      <td>0</td>\n",
       "      <td>0</td>\n",
       "      <td>0</td>\n",
       "      <td>0</td>\n",
       "      <td>0</td>\n",
       "      <td>0</td>\n",
       "      <td>1</td>\n",
       "    </tr>\n",
       "    <tr>\n",
       "      <th>3</th>\n",
       "      <td>196</td>\n",
       "      <td>251</td>\n",
       "      <td>3</td>\n",
       "      <td>0.671233</td>\n",
       "      <td>0</td>\n",
       "      <td>1</td>\n",
       "      <td>0</td>\n",
       "      <td>0</td>\n",
       "      <td>0</td>\n",
       "      <td>0</td>\n",
       "      <td>...</td>\n",
       "      <td>0</td>\n",
       "      <td>0</td>\n",
       "      <td>0</td>\n",
       "      <td>0</td>\n",
       "      <td>0</td>\n",
       "      <td>0</td>\n",
       "      <td>0</td>\n",
       "      <td>0</td>\n",
       "      <td>0</td>\n",
       "      <td>1</td>\n",
       "    </tr>\n",
       "    <tr>\n",
       "      <th>4</th>\n",
       "      <td>196</td>\n",
       "      <td>655</td>\n",
       "      <td>5</td>\n",
       "      <td>0.671233</td>\n",
       "      <td>0</td>\n",
       "      <td>1</td>\n",
       "      <td>0</td>\n",
       "      <td>0</td>\n",
       "      <td>0</td>\n",
       "      <td>0</td>\n",
       "      <td>...</td>\n",
       "      <td>0</td>\n",
       "      <td>0</td>\n",
       "      <td>0</td>\n",
       "      <td>0</td>\n",
       "      <td>0</td>\n",
       "      <td>0</td>\n",
       "      <td>0</td>\n",
       "      <td>0</td>\n",
       "      <td>0</td>\n",
       "      <td>1</td>\n",
       "    </tr>\n",
       "    <tr>\n",
       "      <th>...</th>\n",
       "      <td>...</td>\n",
       "      <td>...</td>\n",
       "      <td>...</td>\n",
       "      <td>...</td>\n",
       "      <td>...</td>\n",
       "      <td>...</td>\n",
       "      <td>...</td>\n",
       "      <td>...</td>\n",
       "      <td>...</td>\n",
       "      <td>...</td>\n",
       "      <td>...</td>\n",
       "      <td>...</td>\n",
       "      <td>...</td>\n",
       "      <td>...</td>\n",
       "      <td>...</td>\n",
       "      <td>...</td>\n",
       "      <td>...</td>\n",
       "      <td>...</td>\n",
       "      <td>...</td>\n",
       "      <td>...</td>\n",
       "      <td>...</td>\n",
       "    </tr>\n",
       "    <tr>\n",
       "      <th>99995</th>\n",
       "      <td>941</td>\n",
       "      <td>919</td>\n",
       "      <td>5</td>\n",
       "      <td>0.273973</td>\n",
       "      <td>0</td>\n",
       "      <td>1</td>\n",
       "      <td>0</td>\n",
       "      <td>0</td>\n",
       "      <td>0</td>\n",
       "      <td>0</td>\n",
       "      <td>...</td>\n",
       "      <td>0</td>\n",
       "      <td>0</td>\n",
       "      <td>0</td>\n",
       "      <td>0</td>\n",
       "      <td>0</td>\n",
       "      <td>0</td>\n",
       "      <td>0</td>\n",
       "      <td>1</td>\n",
       "      <td>0</td>\n",
       "      <td>0</td>\n",
       "    </tr>\n",
       "    <tr>\n",
       "      <th>99996</th>\n",
       "      <td>941</td>\n",
       "      <td>273</td>\n",
       "      <td>3</td>\n",
       "      <td>0.273973</td>\n",
       "      <td>0</td>\n",
       "      <td>1</td>\n",
       "      <td>0</td>\n",
       "      <td>0</td>\n",
       "      <td>0</td>\n",
       "      <td>0</td>\n",
       "      <td>...</td>\n",
       "      <td>0</td>\n",
       "      <td>0</td>\n",
       "      <td>0</td>\n",
       "      <td>0</td>\n",
       "      <td>0</td>\n",
       "      <td>0</td>\n",
       "      <td>0</td>\n",
       "      <td>1</td>\n",
       "      <td>0</td>\n",
       "      <td>0</td>\n",
       "    </tr>\n",
       "    <tr>\n",
       "      <th>99997</th>\n",
       "      <td>941</td>\n",
       "      <td>1</td>\n",
       "      <td>5</td>\n",
       "      <td>0.273973</td>\n",
       "      <td>0</td>\n",
       "      <td>1</td>\n",
       "      <td>0</td>\n",
       "      <td>0</td>\n",
       "      <td>0</td>\n",
       "      <td>0</td>\n",
       "      <td>...</td>\n",
       "      <td>0</td>\n",
       "      <td>0</td>\n",
       "      <td>0</td>\n",
       "      <td>0</td>\n",
       "      <td>0</td>\n",
       "      <td>0</td>\n",
       "      <td>0</td>\n",
       "      <td>1</td>\n",
       "      <td>0</td>\n",
       "      <td>0</td>\n",
       "    </tr>\n",
       "    <tr>\n",
       "      <th>99998</th>\n",
       "      <td>941</td>\n",
       "      <td>294</td>\n",
       "      <td>4</td>\n",
       "      <td>0.273973</td>\n",
       "      <td>0</td>\n",
       "      <td>1</td>\n",
       "      <td>0</td>\n",
       "      <td>0</td>\n",
       "      <td>0</td>\n",
       "      <td>0</td>\n",
       "      <td>...</td>\n",
       "      <td>0</td>\n",
       "      <td>0</td>\n",
       "      <td>0</td>\n",
       "      <td>0</td>\n",
       "      <td>0</td>\n",
       "      <td>0</td>\n",
       "      <td>0</td>\n",
       "      <td>1</td>\n",
       "      <td>0</td>\n",
       "      <td>0</td>\n",
       "    </tr>\n",
       "    <tr>\n",
       "      <th>99999</th>\n",
       "      <td>941</td>\n",
       "      <td>1007</td>\n",
       "      <td>4</td>\n",
       "      <td>0.273973</td>\n",
       "      <td>0</td>\n",
       "      <td>1</td>\n",
       "      <td>0</td>\n",
       "      <td>0</td>\n",
       "      <td>0</td>\n",
       "      <td>0</td>\n",
       "      <td>...</td>\n",
       "      <td>0</td>\n",
       "      <td>0</td>\n",
       "      <td>0</td>\n",
       "      <td>0</td>\n",
       "      <td>0</td>\n",
       "      <td>0</td>\n",
       "      <td>0</td>\n",
       "      <td>1</td>\n",
       "      <td>0</td>\n",
       "      <td>0</td>\n",
       "    </tr>\n",
       "  </tbody>\n",
       "</table>\n",
       "<p>100000 rows × 27 columns</p>\n",
       "</div>"
      ],
      "text/plain": [
       "       user_id  movie_id  rating       age  sex_F  sex_M  \\\n",
       "0          196       242       3  0.671233      0      1   \n",
       "1          196       393       4  0.671233      0      1   \n",
       "2          196       381       4  0.671233      0      1   \n",
       "3          196       251       3  0.671233      0      1   \n",
       "4          196       655       5  0.671233      0      1   \n",
       "...        ...       ...     ...       ...    ...    ...   \n",
       "99995      941       919       5  0.273973      0      1   \n",
       "99996      941       273       3  0.273973      0      1   \n",
       "99997      941         1       5  0.273973      0      1   \n",
       "99998      941       294       4  0.273973      0      1   \n",
       "99999      941      1007       4  0.273973      0      1   \n",
       "\n",
       "       occupation_administrator  occupation_artist  occupation_doctor  \\\n",
       "0                             0                  0                  0   \n",
       "1                             0                  0                  0   \n",
       "2                             0                  0                  0   \n",
       "3                             0                  0                  0   \n",
       "4                             0                  0                  0   \n",
       "...                         ...                ...                ...   \n",
       "99995                         0                  0                  0   \n",
       "99996                         0                  0                  0   \n",
       "99997                         0                  0                  0   \n",
       "99998                         0                  0                  0   \n",
       "99999                         0                  0                  0   \n",
       "\n",
       "       occupation_educator  ...  occupation_marketing  occupation_none  \\\n",
       "0                        0  ...                     0                0   \n",
       "1                        0  ...                     0                0   \n",
       "2                        0  ...                     0                0   \n",
       "3                        0  ...                     0                0   \n",
       "4                        0  ...                     0                0   \n",
       "...                    ...  ...                   ...              ...   \n",
       "99995                    0  ...                     0                0   \n",
       "99996                    0  ...                     0                0   \n",
       "99997                    0  ...                     0                0   \n",
       "99998                    0  ...                     0                0   \n",
       "99999                    0  ...                     0                0   \n",
       "\n",
       "       occupation_other  occupation_programmer  occupation_retired  \\\n",
       "0                     0                      0                   0   \n",
       "1                     0                      0                   0   \n",
       "2                     0                      0                   0   \n",
       "3                     0                      0                   0   \n",
       "4                     0                      0                   0   \n",
       "...                 ...                    ...                 ...   \n",
       "99995                 0                      0                   0   \n",
       "99996                 0                      0                   0   \n",
       "99997                 0                      0                   0   \n",
       "99998                 0                      0                   0   \n",
       "99999                 0                      0                   0   \n",
       "\n",
       "       occupation_salesman  occupation_scientist  occupation_student  \\\n",
       "0                        0                     0                   0   \n",
       "1                        0                     0                   0   \n",
       "2                        0                     0                   0   \n",
       "3                        0                     0                   0   \n",
       "4                        0                     0                   0   \n",
       "...                    ...                   ...                 ...   \n",
       "99995                    0                     0                   1   \n",
       "99996                    0                     0                   1   \n",
       "99997                    0                     0                   1   \n",
       "99998                    0                     0                   1   \n",
       "99999                    0                     0                   1   \n",
       "\n",
       "       occupation_technician  occupation_writer  \n",
       "0                          0                  1  \n",
       "1                          0                  1  \n",
       "2                          0                  1  \n",
       "3                          0                  1  \n",
       "4                          0                  1  \n",
       "...                      ...                ...  \n",
       "99995                      0                  0  \n",
       "99996                      0                  0  \n",
       "99997                      0                  0  \n",
       "99998                      0                  0  \n",
       "99999                      0                  0  \n",
       "\n",
       "[100000 rows x 27 columns]"
      ]
     },
     "execution_count": 3,
     "metadata": {},
     "output_type": "execute_result"
    }
   ],
   "source": [
    "ratings = pd.merge(ratings, users, on='user_id')\n",
    "ratings = pd.get_dummies(ratings)\n",
    "ratings"
   ]
  },
  {
   "cell_type": "code",
   "execution_count": 4,
   "id": "93969783",
   "metadata": {},
   "outputs": [
    {
     "data": {
      "text/plain": [
       "24"
      ]
     },
     "execution_count": 4,
     "metadata": {},
     "output_type": "execute_result"
    }
   ],
   "source": [
    "others_input_shape = ratings.iloc[:, 3:].values.shape[1]\n",
    "others_input_shape"
   ]
  },
  {
   "cell_type": "code",
   "execution_count": 5,
   "id": "d43d0d81",
   "metadata": {
    "colab": {
     "base_uri": "https://localhost:8080/"
    },
    "id": "d43d0d81",
    "outputId": "f30022c4-520c-4ca6-b2af-e48565eb4130"
   },
   "outputs": [
    {
     "data": {
      "text/plain": [
       "((75000, 27), (25000, 27))"
      ]
     },
     "execution_count": 5,
     "metadata": {},
     "output_type": "execute_result"
    }
   ],
   "source": [
    "# train test set 분리\n",
    "train_ratings, test_ratings = train_test_split(ratings, test_size=0.25, random_state=0)\n",
    "train_ratings.shape, test_ratings.shape"
   ]
  },
  {
   "cell_type": "code",
   "execution_count": 6,
   "id": "1e11347a",
   "metadata": {
    "colab": {
     "base_uri": "https://localhost:8080/"
    },
    "id": "1e11347a",
    "outputId": "07acf1f3-3801-473a-afa1-bdf934937a96"
   },
   "outputs": [
    {
     "data": {
      "text/plain": [
       "(200, 0, 944, 1683)"
      ]
     },
     "execution_count": 6,
     "metadata": {},
     "output_type": "execute_result"
    }
   ],
   "source": [
    "# Variable 초기화 \n",
    "K = 100                             # Latent factor 수 \n",
    "M = ratings.user_id.max() + 1       # Number of users - Embedding 이 0 부터 시작하므로 + 1\n",
    "N = ratings.movie_id.max() + 1      # Number of movies\n",
    "\n",
    "K, mu, M, N"
   ]
  },
  {
   "cell_type": "code",
   "execution_count": 7,
   "id": "681410c6",
   "metadata": {
    "colab": {
     "base_uri": "https://localhost:8080/"
    },
    "id": "681410c6",
    "outputId": "35cd19fb-767c-4393-96cd-1616fef16830"
   },
   "outputs": [
    {
     "data": {
      "text/plain": [
       "TensorShape([200])"
      ]
     },
     "execution_count": 7,
     "metadata": {},
     "output_type": "execute_result"
    }
   ],
   "source": [
    "Embedding(M, K)(1).shape"
   ]
  },
  {
   "cell_type": "markdown",
   "id": "e91160cf",
   "metadata": {
    "id": "e91160cf"
   },
   "source": [
    "### Shallow Neural Network\n",
    "MF 구조 이해를 위해 hidden layer를 생략하고 Input, Embedding, Output Layer 로만 network 구성"
   ]
  },
  {
   "cell_type": "code",
   "execution_count": 8,
   "id": "3118c96b",
   "metadata": {
    "colab": {
     "base_uri": "https://localhost:8080/"
    },
    "id": "3118c96b",
    "outputId": "7bc68a56-7d89-4310-ae84-2c841e9fa227"
   },
   "outputs": [
    {
     "name": "stdout",
     "output_type": "stream",
     "text": [
      "Model: \"model\"\n",
      "__________________________________________________________________________________________________\n",
      " Layer (type)                   Output Shape         Param #     Connected to                     \n",
      "==================================================================================================\n",
      " p_ik (InputLayer)              [(None, 1)]          0           []                               \n",
      "                                                                                                  \n",
      " q_kj (InputLayer)              [(None, 1)]          0           []                               \n",
      "                                                                                                  \n",
      " P (Embedding)                  (None, 1, 200)       188800      ['p_ik[0][0]']                   \n",
      "                                                                                                  \n",
      " Q (Embedding)                  (None, 1, 200)       336600      ['q_kj[0][0]']                   \n",
      "                                                                                                  \n",
      " bu (Embedding)                 (None, 1, 1)         944         ['p_ik[0][0]']                   \n",
      "                                                                                                  \n",
      " bd (Embedding)                 (None, 1, 1)         1683        ['q_kj[0][0]']                   \n",
      "                                                                                                  \n",
      " flatten (Flatten)              (None, 200)          0           ['P[0][0]']                      \n",
      "                                                                                                  \n",
      " flatten_1 (Flatten)            (None, 200)          0           ['Q[0][0]']                      \n",
      "                                                                                                  \n",
      " flatten_2 (Flatten)            (None, 1)            0           ['bu[0][0]']                     \n",
      "                                                                                                  \n",
      " flatten_3 (Flatten)            (None, 1)            0           ['bd[0][0]']                     \n",
      "                                                                                                  \n",
      " other features (InputLayer)    [(None, 24)]         0           []                               \n",
      "                                                                                                  \n",
      " concatenate (Concatenate)      (None, 426)          0           ['flatten[0][0]',                \n",
      "                                                                  'flatten_1[0][0]',              \n",
      "                                                                  'flatten_2[0][0]',              \n",
      "                                                                  'flatten_3[0][0]',              \n",
      "                                                                  'other features[0][0]']         \n",
      "                                                                                                  \n",
      " dense (Dense)                  (None, 2048)         874496      ['concatenate[0][0]']            \n",
      "                                                                                                  \n",
      " dense_1 (Dense)                (None, 256)          524544      ['dense[0][0]']                  \n",
      "                                                                                                  \n",
      " dense_2 (Dense)                (None, 1)            257         ['dense_1[0][0]']                \n",
      "                                                                                                  \n",
      "==================================================================================================\n",
      "Total params: 1,927,324\n",
      "Trainable params: 1,927,324\n",
      "Non-trainable params: 0\n",
      "__________________________________________________________________________________________________\n"
     ]
    }
   ],
   "source": [
    "# Keras model\n",
    "user = Input(shape=(1, ), name=\"p_ik\")                                               # User input\n",
    "item = Input(shape=(1, ), name=\"q_kj\")                                               # Item input\n",
    "other_features = Input(shape=(others_input_shape,), name=\"other features\")\n",
    "P_embedding = Embedding(M, K, name=\"P\")(user)        # (M,  K)\n",
    "Q_embedding = Embedding(N, K, name=\"Q\")(item)        # (N,  K)\n",
    "\n",
    "user_bias = Embedding(M, 1, name=\"bu\")(user)          # User bias term (M, 1)\n",
    "item_bias = Embedding(N, 1, name=\"bd\")(item)          # Item bias term (N, 1)\n",
    "\n",
    "# Concatenate하기 위해 Embedding Layer들을 1차원으로 flatten\n",
    "P_embedding = Flatten()(P_embedding)           #(K,)\n",
    "Q_embedding = Flatten()(Q_embedding)          #(K,)\n",
    "user_bias = Flatten()(user_bias)                      #(1,)\n",
    "item_bias = Flatten()(item_bias)                      #(1,)\n",
    "\n",
    "# 4개의 embedding layer들을 concatenate\n",
    "R = Concatenate()([P_embedding, Q_embedding, user_bias, item_bias, other_features])   \n",
    "\n",
    "# Hidden Layer로 연결\n",
    "R = Dense(2048, activation='relu')(R)\n",
    "R = Dense(256, activation='relu')(R)\n",
    "R = Dense(64, activation='relu')(R)\n",
    "R = Dense(1)(R)\n",
    "\n",
    "# Model setting\n",
    "model = Model(inputs=[user, item, other_features], outputs=R)\n",
    "\n",
    "model.compile(\n",
    "  loss=\"mse\",\n",
    "  optimizer=\"adam\",\n",
    "  metrics=[\"mse\"]\n",
    ")\n",
    "\n",
    "model.summary()"
   ]
  },
  {
   "cell_type": "code",
   "execution_count": 9,
   "id": "fb83b538",
   "metadata": {
    "colab": {
     "base_uri": "https://localhost:8080/",
     "height": 466
    },
    "id": "fb83b538",
    "outputId": "0a6b328a-6617-4ad1-8d4a-94efedaf3fac",
    "scrolled": false
   },
   "outputs": [
    {
     "data": {
      "image/png": "[encoded data removed]",
      "text/plain": [
       "<IPython.core.display.Image object>"
      ]
     },
     "execution_count": 9,
     "metadata": {},
     "output_type": "execute_result"
    }
   ],
   "source": [
    "tf.keras.utils.plot_model(model)"
   ]
  },
  {
   "cell_type": "code",
   "execution_count": 10,
   "id": "09f8344a",
   "metadata": {},
   "outputs": [
    {
     "data": {
      "text/plain": [
       "array([[0.82191781, 0.        , 1.        , ..., 0.        , 0.        ,\n",
       "        0.        ],\n",
       "       [0.49315068, 0.        , 1.        , ..., 0.        , 0.        ,\n",
       "        0.        ],\n",
       "       [0.65753425, 1.        , 0.        , ..., 0.        , 0.        ,\n",
       "        0.        ],\n",
       "       ...,\n",
       "       [0.38356164, 0.        , 1.        , ..., 0.        , 0.        ,\n",
       "        0.        ],\n",
       "       [0.2739726 , 1.        , 0.        , ..., 1.        , 0.        ,\n",
       "        0.        ],\n",
       "       [0.26027397, 0.        , 1.        , ..., 1.        , 0.        ,\n",
       "        0.        ]])"
      ]
     },
     "execution_count": 10,
     "metadata": {},
     "output_type": "execute_result"
    }
   ],
   "source": [
    "test_ratings.iloc[:, 3:].values"
   ]
  },
  {
   "cell_type": "code",
   "execution_count": 11,
   "id": "da9032c4",
   "metadata": {
    "colab": {
     "base_uri": "https://localhost:8080/"
    },
    "id": "da9032c4",
    "outputId": "981b084b-6596-4604-ae70-d2393a5cedd3",
    "scrolled": false
   },
   "outputs": [
    {
     "name": "stdout",
     "output_type": "stream",
     "text": [
      "Epoch 1/60\n",
      "293/293 [==============================] - 4s 12ms/step - loss: 1.4717 - mse: 1.4717 - val_loss: 1.2391 - val_mse: 1.2391\n",
      "Epoch 2/60\n",
      "293/293 [==============================] - 3s 11ms/step - loss: 1.2221 - mse: 1.2221 - val_loss: 1.2214 - val_mse: 1.2214\n",
      "Epoch 3/60\n",
      "293/293 [==============================] - 4s 13ms/step - loss: 1.2023 - mse: 1.2023 - val_loss: 1.1975 - val_mse: 1.1975\n",
      "Epoch 4/60\n",
      "293/293 [==============================] - 4s 13ms/step - loss: 1.1774 - mse: 1.1774 - val_loss: 1.1695 - val_mse: 1.1695\n",
      "Epoch 5/60\n",
      "293/293 [==============================] - 4s 13ms/step - loss: 1.1422 - mse: 1.1422 - val_loss: 1.1333 - val_mse: 1.1333\n",
      "Epoch 6/60\n",
      "293/293 [==============================] - 4s 13ms/step - loss: 1.0944 - mse: 1.0944 - val_loss: 1.0790 - val_mse: 1.0790\n",
      "Epoch 7/60\n",
      "293/293 [==============================] - 4s 13ms/step - loss: 1.0373 - mse: 1.0373 - val_loss: 1.0247 - val_mse: 1.0247\n",
      "Epoch 8/60\n",
      "293/293 [==============================] - 4s 13ms/step - loss: 0.9881 - mse: 0.9881 - val_loss: 1.0007 - val_mse: 1.0007\n",
      "Epoch 9/60\n",
      "293/293 [==============================] - 4s 13ms/step - loss: 0.9537 - mse: 0.9537 - val_loss: 0.9636 - val_mse: 0.9636\n",
      "Epoch 10/60\n",
      "293/293 [==============================] - 4s 13ms/step - loss: 0.9297 - mse: 0.9297 - val_loss: 0.9444 - val_mse: 0.9444\n",
      "Epoch 11/60\n",
      "293/293 [==============================] - 4s 13ms/step - loss: 0.9112 - mse: 0.9112 - val_loss: 0.9287 - val_mse: 0.9287\n",
      "Epoch 12/60\n",
      "293/293 [==============================] - 4s 13ms/step - loss: 0.8976 - mse: 0.8976 - val_loss: 0.9193 - val_mse: 0.9193\n",
      "Epoch 13/60\n",
      "293/293 [==============================] - 4s 13ms/step - loss: 0.8875 - mse: 0.8875 - val_loss: 0.9136 - val_mse: 0.9136\n",
      "Epoch 14/60\n",
      "293/293 [==============================] - 4s 13ms/step - loss: 0.8778 - mse: 0.8778 - val_loss: 0.9104 - val_mse: 0.9104\n",
      "Epoch 15/60\n",
      "293/293 [==============================] - 4s 13ms/step - loss: 0.8716 - mse: 0.8716 - val_loss: 0.9030 - val_mse: 0.9030\n",
      "Epoch 16/60\n",
      "293/293 [==============================] - 4s 13ms/step - loss: 0.8648 - mse: 0.8648 - val_loss: 0.8966 - val_mse: 0.8966\n",
      "Epoch 17/60\n",
      "293/293 [==============================] - 4s 13ms/step - loss: 0.8612 - mse: 0.8612 - val_loss: 0.8963 - val_mse: 0.8963\n",
      "Epoch 18/60\n",
      "293/293 [==============================] - 4s 13ms/step - loss: 0.8574 - mse: 0.8574 - val_loss: 0.8925 - val_mse: 0.8925\n",
      "Epoch 19/60\n",
      "293/293 [==============================] - 4s 13ms/step - loss: 0.8550 - mse: 0.8550 - val_loss: 0.8966 - val_mse: 0.8966\n",
      "Epoch 20/60\n",
      "293/293 [==============================] - 4s 13ms/step - loss: 0.8516 - mse: 0.8516 - val_loss: 0.8925 - val_mse: 0.8925\n",
      "Epoch 21/60\n",
      "293/293 [==============================] - 4s 13ms/step - loss: 0.8493 - mse: 0.8493 - val_loss: 0.8909 - val_mse: 0.8909\n",
      "Epoch 22/60\n",
      "293/293 [==============================] - 4s 13ms/step - loss: 0.8472 - mse: 0.8472 - val_loss: 0.8877 - val_mse: 0.8877\n",
      "Epoch 23/60\n",
      "293/293 [==============================] - 4s 13ms/step - loss: 0.8468 - mse: 0.8468 - val_loss: 0.8865 - val_mse: 0.8865\n",
      "Epoch 24/60\n",
      "293/293 [==============================] - 4s 13ms/step - loss: 0.8455 - mse: 0.8455 - val_loss: 0.8884 - val_mse: 0.8884\n",
      "Epoch 25/60\n",
      "293/293 [==============================] - 4s 13ms/step - loss: 0.8438 - mse: 0.8438 - val_loss: 0.9149 - val_mse: 0.9149\n",
      "Epoch 26/60\n",
      "293/293 [==============================] - 4s 13ms/step - loss: 0.8418 - mse: 0.8418 - val_loss: 0.8863 - val_mse: 0.8863\n",
      "Epoch 27/60\n",
      "293/293 [==============================] - 4s 13ms/step - loss: 0.8408 - mse: 0.8408 - val_loss: 0.8898 - val_mse: 0.8898\n",
      "Epoch 28/60\n",
      "293/293 [==============================] - 4s 13ms/step - loss: 0.8393 - mse: 0.8393 - val_loss: 0.8873 - val_mse: 0.8873\n",
      "Epoch 29/60\n",
      "293/293 [==============================] - 4s 13ms/step - loss: 0.8388 - mse: 0.8388 - val_loss: 0.8937 - val_mse: 0.8937\n",
      "Epoch 30/60\n",
      "293/293 [==============================] - 4s 13ms/step - loss: 0.8359 - mse: 0.8359 - val_loss: 0.8825 - val_mse: 0.8825\n",
      "Epoch 31/60\n",
      "293/293 [==============================] - 4s 13ms/step - loss: 0.8353 - mse: 0.8353 - val_loss: 0.8820 - val_mse: 0.8820\n",
      "Epoch 32/60\n",
      "293/293 [==============================] - 4s 13ms/step - loss: 0.8347 - mse: 0.8347 - val_loss: 0.8829 - val_mse: 0.8829\n",
      "Epoch 33/60\n",
      "293/293 [==============================] - 4s 13ms/step - loss: 0.8332 - mse: 0.8332 - val_loss: 0.8871 - val_mse: 0.8871\n",
      "Epoch 34/60\n",
      "293/293 [==============================] - 4s 13ms/step - loss: 0.8330 - mse: 0.8330 - val_loss: 0.8837 - val_mse: 0.8837\n",
      "Epoch 35/60\n",
      "293/293 [==============================] - 4s 13ms/step - loss: 0.8310 - mse: 0.8310 - val_loss: 0.8834 - val_mse: 0.8834\n",
      "Epoch 36/60\n",
      "293/293 [==============================] - 4s 13ms/step - loss: 0.8315 - mse: 0.8315 - val_loss: 0.9015 - val_mse: 0.9015\n",
      "Epoch 37/60\n",
      "293/293 [==============================] - 4s 13ms/step - loss: 0.8295 - mse: 0.8295 - val_loss: 0.8966 - val_mse: 0.8966\n",
      "Epoch 38/60\n",
      "293/293 [==============================] - 4s 13ms/step - loss: 0.8293 - mse: 0.8293 - val_loss: 0.8875 - val_mse: 0.8875\n",
      "Epoch 39/60\n",
      "293/293 [==============================] - 4s 13ms/step - loss: 0.8292 - mse: 0.8292 - val_loss: 0.8843 - val_mse: 0.8843\n",
      "Epoch 40/60\n",
      "293/293 [==============================] - 4s 13ms/step - loss: 0.8288 - mse: 0.8288 - val_loss: 0.8827 - val_mse: 0.8827\n",
      "Epoch 41/60\n",
      "293/293 [==============================] - 4s 13ms/step - loss: 0.8257 - mse: 0.8257 - val_loss: 0.8812 - val_mse: 0.8812\n",
      "Epoch 42/60\n",
      "293/293 [==============================] - 4s 13ms/step - loss: 0.8261 - mse: 0.8261 - val_loss: 0.8837 - val_mse: 0.8837\n",
      "Epoch 43/60\n",
      "293/293 [==============================] - 4s 13ms/step - loss: 0.8256 - mse: 0.8256 - val_loss: 0.8923 - val_mse: 0.8923\n",
      "Epoch 44/60\n",
      "293/293 [==============================] - 4s 13ms/step - loss: 0.8248 - mse: 0.8248 - val_loss: 0.8815 - val_mse: 0.8815\n",
      "Epoch 45/60\n",
      "293/293 [==============================] - 4s 13ms/step - loss: 0.8231 - mse: 0.8231 - val_loss: 0.8811 - val_mse: 0.8811\n",
      "Epoch 46/60\n",
      "293/293 [==============================] - 4s 13ms/step - loss: 0.8242 - mse: 0.8242 - val_loss: 0.8807 - val_mse: 0.8807\n",
      "Epoch 47/60\n",
      "293/293 [==============================] - 4s 13ms/step - loss: 0.8228 - mse: 0.8228 - val_loss: 0.8891 - val_mse: 0.8891\n",
      "Epoch 48/60\n",
      "293/293 [==============================] - 4s 13ms/step - loss: 0.8212 - mse: 0.8212 - val_loss: 0.8840 - val_mse: 0.8840\n",
      "Epoch 49/60\n",
      "293/293 [==============================] - 4s 13ms/step - loss: 0.8206 - mse: 0.8206 - val_loss: 0.8873 - val_mse: 0.8873\n",
      "Epoch 50/60\n",
      "293/293 [==============================] - 4s 13ms/step - loss: 0.8190 - mse: 0.8190 - val_loss: 0.8822 - val_mse: 0.8822\n",
      "Epoch 51/60\n",
      "293/293 [==============================] - 4s 13ms/step - loss: 0.8177 - mse: 0.8177 - val_loss: 0.8833 - val_mse: 0.8833\n",
      "Epoch 52/60\n",
      "293/293 [==============================] - 4s 13ms/step - loss: 0.8176 - mse: 0.8176 - val_loss: 0.8792 - val_mse: 0.8792\n",
      "Epoch 53/60\n",
      "293/293 [==============================] - 4s 13ms/step - loss: 0.8168 - mse: 0.8168 - val_loss: 0.9067 - val_mse: 0.9067\n",
      "Epoch 54/60\n",
      "293/293 [==============================] - 4s 13ms/step - loss: 0.8160 - mse: 0.8160 - val_loss: 0.8802 - val_mse: 0.8802\n",
      "Epoch 55/60\n",
      "293/293 [==============================] - 4s 13ms/step - loss: 0.8150 - mse: 0.8150 - val_loss: 0.8827 - val_mse: 0.8827\n",
      "Epoch 56/60\n",
      "293/293 [==============================] - 4s 13ms/step - loss: 0.8143 - mse: 0.8143 - val_loss: 0.8961 - val_mse: 0.8961\n",
      "Epoch 57/60\n",
      "293/293 [==============================] - 4s 13ms/step - loss: 0.8117 - mse: 0.8117 - val_loss: 0.8832 - val_mse: 0.8832\n",
      "Epoch 58/60\n",
      "293/293 [==============================] - 4s 13ms/step - loss: 0.8125 - mse: 0.8125 - val_loss: 0.8800 - val_mse: 0.8800\n",
      "Epoch 59/60\n",
      "293/293 [==============================] - 4s 13ms/step - loss: 0.8116 - mse: 0.8116 - val_loss: 0.8834 - val_mse: 0.8834\n",
      "Epoch 60/60\n",
      "293/293 [==============================] - 4s 13ms/step - loss: 0.8102 - mse: 0.8102 - val_loss: 0.8792 - val_mse: 0.8792\n"
     ]
    }
   ],
   "source": [
    "# Model Train\n",
    "history = model.fit(\n",
    "    [train_ratings.user_id.values, train_ratings.movie_id.values, train_ratings.iloc[:, 3:].values],  #(user, item)\n",
    "    train_ratings.rating.values,        #(target value - 평균)\n",
    "  epochs=60,\n",
    "  batch_size=256,\n",
    "  validation_data=(\n",
    "    [test_ratings.user_id.values, test_ratings.movie_id.values, test_ratings.iloc[:, 3:].values],\n",
    "    test_ratings.rating.values\n",
    "  )\n",
    ")"
   ]
  },
  {
   "cell_type": "code",
   "execution_count": 17,
   "id": "cd4d4fbf",
   "metadata": {
    "colab": {
     "base_uri": "https://localhost:8080/"
    },
    "id": "cd4d4fbf",
    "outputId": "fbdb66c6-76ee-45dc-90c2-6cec3bd0e183"
   },
   "outputs": [
    {
     "name": "stdout",
     "output_type": "stream",
     "text": [
      "782/782 [==============================] - 2s 2ms/step - loss: 0.8792 - mse: 0.8792\n"
     ]
    },
    {
     "data": {
      "text/plain": [
       "[0.8791715502738953, 0.8791715502738953]"
      ]
     },
     "execution_count": 17,
     "metadata": {},
     "output_type": "execute_result"
    }
   ],
   "source": [
    "model.evaluate([test_ratings.user_id.values, test_ratings.movie_id.values,  test_ratings.iloc[:, 3:].values], test_ratings.rating.values)"
   ]
  },
  {
   "cell_type": "code",
   "execution_count": 13,
   "id": "932063da",
   "metadata": {
    "colab": {
     "base_uri": "https://localhost:8080/",
     "height": 279
    },
    "id": "932063da",
    "outputId": "685520fb-d443-4e11-c021-af6e7eebd2d3"
   },
   "outputs": [
    {
     "data": {
      "image/png": "[encoded data removed]",
      "text/plain": [
       "<Figure size 432x288 with 1 Axes>"
      ]
     },
     "metadata": {
      "needs_background": "light"
     },
     "output_type": "display_data"
    }
   ],
   "source": [
    "# Plot RMSE\n",
    "plt.plot(history.history['mse'], label=\"Train MSE\")\n",
    "plt.plot(history.history['val_mse'], label=\"Test MSE\")\n",
    "plt.xlabel('epoch')\n",
    "plt.ylabel('MSE')\n",
    "plt.legend()\n",
    "plt.show()"
   ]
  },
  {
   "cell_type": "code",
   "execution_count": 16,
   "id": "0f87e29c",
   "metadata": {
    "colab": {
     "base_uri": "https://localhost:8080/"
    },
    "id": "0f87e29c",
    "outputId": "eef27460-3de2-4f5e-93c1-a81cb4425126"
   },
   "outputs": [
    {
     "name": "stdout",
     "output_type": "stream",
     "text": [
      "Actuals: \n",
      " [4 4 1 4 3 5]\n",
      "\n",
      "Predictions: \n",
      " [[3.1898432]\n",
      " [3.2675529]\n",
      " [3.1697202]\n",
      " [4.251382 ]\n",
      " [2.989102 ]\n",
      " [4.374737 ]]\n"
     ]
    }
   ],
   "source": [
    "# Test set에서 6개만 골라 Prediction 하여 비교\n",
    "user_ids = test_ratings.user_id.values[0:6]\n",
    "movie_ids = test_ratings.movie_id.values[0:6]\n",
    "occupations = test_ratings.iloc[:, 3:].values[0:6]\n",
    "predictions = model.predict([user_ids, movie_ids, occupations])\n",
    "print(\"Actuals: \\n\", test_ratings.rating.values[0:6])\n",
    "print( )\n",
    "print(\"Predictions: \\n\", predictions)"
   ]
  },
  {
   "cell_type": "code",
   "execution_count": 15,
   "id": "caf89219",
   "metadata": {
    "colab": {
     "base_uri": "https://localhost:8080/"
    },
    "id": "caf89219",
    "outputId": "105987cb-fa51-4f46-f7fb-356af1cec79f"
   },
   "outputs": [
    {
     "data": {
      "text/plain": [
       "0.8791706401617957"
      ]
     },
     "execution_count": 15,
     "metadata": {},
     "output_type": "execute_result"
    }
   ],
   "source": [
    "# Test set 전체의 mse 계산\n",
    "user_ids = test_ratings.user_id.values\n",
    "movie_ids = test_ratings.movie_id.values\n",
    "occupations = test_ratings.iloc[:, 3:].values\n",
    "\n",
    "y_pred = model.predict([user_ids, movie_ids, occupations])\n",
    "y_true = test_ratings.rating.values\n",
    "\n",
    "mean_squared_error(y_true, y_pred, squared=True)"
   ]
  },
  {
   "cell_type": "code",
   "execution_count": null,
   "id": "ab616abe",
   "metadata": {},
   "outputs": [],
   "source": []
  },
  {
   "cell_type": "code",
   "execution_count": null,
   "id": "26612772",
   "metadata": {},
   "outputs": [],
   "source": []
  }
 ],
 "metadata": {
  "accelerator": "GPU",
  "colab": {
   "collapsed_sections": [],
   "name": "140_MF_Keras.ipynb",
   "provenance": []
  },
  "kernelspec": {
   "display_name": "Python 3 (ipykernel)",
   "language": "python",
   "name": "python3"
  },
  "language_info": {
   "codemirror_mode": {
    "name": "ipython",
    "version": 3
   },
   "file_extension": ".py",
   "mimetype": "text/x-python",
   "name": "python",
   "nbconvert_exporter": "python",
   "pygments_lexer": "ipython3",
   "version": "3.8.12"
  }
 },
 "nbformat": 4,
 "nbformat_minor": 5
}
