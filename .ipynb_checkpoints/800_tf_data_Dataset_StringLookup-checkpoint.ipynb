{
 "cells": [
  {
   "cell_type": "markdown",
   "id": "annoying-withdrawal",
   "metadata": {},
   "source": [
    "# tf.Dataset, batch를 활용한 loader 만들기"
   ]
  },
  {
   "cell_type": "code",
   "execution_count": 1,
   "id": "earned-equipment",
   "metadata": {},
   "outputs": [
    {
     "data": {
      "text/plain": [
       "<_TensorSliceDataset element_spec=TensorSpec(shape=(), dtype=tf.int32, name=None)>"
      ]
     },
     "execution_count": 1,
     "metadata": {},
     "output_type": "execute_result"
    }
   ],
   "source": [
    "import tensorflow as tf\n",
    "\n",
    "daily_sales_numbers = [21, 22, -100, 31, -1, 32, 34, 31]\n",
    "\n",
    "tf_dataset = tf.data.Dataset.from_tensor_slices(daily_sales_numbers)\n",
    "tf_dataset"
   ]
  },
  {
   "cell_type": "code",
   "execution_count": 2,
   "id": "aware-farmer",
   "metadata": {},
   "outputs": [
    {
     "name": "stdout",
     "output_type": "stream",
     "text": [
      "tf.Tensor(21, shape=(), dtype=int32)\n",
      "tf.Tensor(22, shape=(), dtype=int32)\n",
      "tf.Tensor(-100, shape=(), dtype=int32)\n",
      "tf.Tensor(31, shape=(), dtype=int32)\n",
      "tf.Tensor(-1, shape=(), dtype=int32)\n",
      "tf.Tensor(32, shape=(), dtype=int32)\n",
      "tf.Tensor(34, shape=(), dtype=int32)\n",
      "tf.Tensor(31, shape=(), dtype=int32)\n"
     ]
    }
   ],
   "source": [
    "for sales in tf_dataset:\n",
    "    print(sales)"
   ]
  },
  {
   "cell_type": "markdown",
   "id": "single-project",
   "metadata": {},
   "source": [
    "### as_numpy_iterator"
   ]
  },
  {
   "cell_type": "code",
   "execution_count": 3,
   "id": "manual-calculator",
   "metadata": {},
   "outputs": [
    {
     "name": "stdout",
     "output_type": "stream",
     "text": [
      "21\n",
      "22\n",
      "-100\n",
      "31\n",
      "-1\n",
      "32\n",
      "34\n",
      "31\n"
     ]
    }
   ],
   "source": [
    "for sales in tf_dataset.as_numpy_iterator():\n",
    "    print(sales)"
   ]
  },
  {
   "cell_type": "markdown",
   "id": "supreme-alloy",
   "metadata": {},
   "source": [
    "### take"
   ]
  },
  {
   "cell_type": "code",
   "execution_count": 4,
   "id": "together-fashion",
   "metadata": {},
   "outputs": [
    {
     "name": "stdout",
     "output_type": "stream",
     "text": [
      "21\n",
      "22\n",
      "-100\n"
     ]
    }
   ],
   "source": [
    "for sales in tf_dataset.take(3):\n",
    "    print(sales.numpy())"
   ]
  },
  {
   "cell_type": "markdown",
   "id": "based-motion",
   "metadata": {},
   "source": [
    "### filter"
   ]
  },
  {
   "cell_type": "code",
   "execution_count": 5,
   "id": "conservative-roberts",
   "metadata": {},
   "outputs": [
    {
     "name": "stdout",
     "output_type": "stream",
     "text": [
      "21\n",
      "22\n",
      "31\n",
      "32\n",
      "34\n",
      "31\n"
     ]
    }
   ],
   "source": [
    "tf_dataset = tf_dataset.filter(lambda x: x > 0)\n",
    "\n",
    "for sales in tf_dataset.as_numpy_iterator():\n",
    "    print(sales)"
   ]
  },
  {
   "cell_type": "markdown",
   "id": "considerable-gardening",
   "metadata": {},
   "source": [
    "### map\n",
    "\n",
    "- Dataset 전체에 함수를 맵핑합니다."
   ]
  },
  {
   "cell_type": "code",
   "execution_count": 6,
   "id": "boxed-reality",
   "metadata": {},
   "outputs": [
    {
     "name": "stdout",
     "output_type": "stream",
     "text": [
      "42\n",
      "44\n",
      "62\n",
      "64\n",
      "68\n",
      "62\n"
     ]
    }
   ],
   "source": [
    "tf_dataset = tf_dataset.map(lambda x: x * 2)\n",
    "\n",
    "for sales in tf_dataset.as_numpy_iterator():\n",
    "    print(sales)"
   ]
  },
  {
   "cell_type": "markdown",
   "id": "distinguished-nirvana",
   "metadata": {},
   "source": [
    "### shuffle\n",
    "- 데이터세트는 buffer_size 요소로 버퍼를 채운 다음이 버퍼에서 요소를 무작위로 샘플링하여 선택한 요소를 새 요소로 바꿉니다.\n",
    "\n",
    "- 완벽한 셔플 링을 위해서는 데이터 세트의 전체 크기보다 크거나 같은 버퍼 크기가 필요합니다.\n",
    "\n",
    "- 예를 들어, 데이터 집합에 10,000 개의 element가 있지만 buffer_size가 1,000으로 설정된 경우 셔플은 처음에 버퍼의 처음 1,000 개 element 중 임의의 element 만 선택합니다.\n",
    "\n",
    "- element가 선택되면 버퍼의 공간이 다음 element (즉, 1,001-st)로 대체되어 1,000 element 버퍼를 유지합니다."
   ]
  },
  {
   "cell_type": "code",
   "execution_count": 7,
   "id": "julian-apollo",
   "metadata": {},
   "outputs": [
    {
     "name": "stdout",
     "output_type": "stream",
     "text": [
      "42\n",
      "44\n",
      "62\n",
      "64\n",
      "62\n",
      "68\n"
     ]
    }
   ],
   "source": [
    "tf_dataset = tf_dataset.shuffle(10)\n",
    "for sales in tf_dataset.as_numpy_iterator():\n",
    "    print(sales)"
   ]
  },
  {
   "cell_type": "code",
   "execution_count": 8,
   "id": "expired-programming",
   "metadata": {},
   "outputs": [
    {
     "name": "stdout",
     "output_type": "stream",
     "text": [
      "[62 68]\n",
      "[42 64]\n",
      "[62 44]\n"
     ]
    }
   ],
   "source": [
    "for sales_batch in tf_dataset.batch(2):\n",
    "    print(sales_batch.numpy())"
   ]
  },
  {
   "cell_type": "code",
   "execution_count": 9,
   "id": "liberal-proportion",
   "metadata": {},
   "outputs": [
    {
     "name": "stdout",
     "output_type": "stream",
     "text": [
      "[68 62 44]\n",
      "[62 42 64]\n"
     ]
    }
   ],
   "source": [
    "for sales_batch in tf_dataset.batch(3):\n",
    "    print(sales_batch.numpy())"
   ]
  },
  {
   "cell_type": "code",
   "execution_count": 10,
   "id": "coordinated-encounter",
   "metadata": {},
   "outputs": [
    {
     "name": "stdout",
     "output_type": "stream",
     "text": [
      "[68 42 44 64]\n",
      "[62 62]\n"
     ]
    }
   ],
   "source": [
    "for sales in tf_dataset.batch(4):\n",
    "    print(sales.numpy())"
   ]
  },
  {
   "cell_type": "code",
   "execution_count": 11,
   "id": "sitting-premium",
   "metadata": {},
   "outputs": [
    {
     "name": "stdout",
     "output_type": "stream",
     "text": [
      "[64 62 62 44]\n"
     ]
    }
   ],
   "source": [
    "for sales in tf_dataset.batch(4, drop_remainder=True):\n",
    "    print(sales.numpy())"
   ]
  },
  {
   "cell_type": "markdown",
   "id": "prime-mailman",
   "metadata": {},
   "source": [
    "- 위 모든 것을 한 줄로 결합"
   ]
  },
  {
   "cell_type": "code",
   "execution_count": 12,
   "id": "prescription-commissioner",
   "metadata": {},
   "outputs": [
    {
     "name": "stdout",
     "output_type": "stream",
     "text": [
      "[44 64 42 62]\n"
     ]
    }
   ],
   "source": [
    "daily_sales_numbers = [21, 22, -100, 31, -1, 32, 34, 31]\n",
    "tf_dataset = tf.data.Dataset.from_tensor_slices(daily_sales_numbers)\n",
    "tf_dataset = tf_dataset.filter(lambda x: x > 0).map(lambda y: y * 2).shuffle(3).batch(4, drop_remainder=True)\n",
    "\n",
    "for sales_batch in tf_dataset.as_numpy_iterator():\n",
    "    print(sales_batch)"
   ]
  },
  {
   "cell_type": "markdown",
   "id": "stuck-stanley",
   "metadata": {},
   "source": [
    "### train, test dataset 생성\n",
    "- train : test = 8 : 2"
   ]
  },
  {
   "cell_type": "code",
   "execution_count": 13,
   "id": "tender-handling",
   "metadata": {},
   "outputs": [
    {
     "data": {
      "text/plain": [
       "(80, 20)"
      ]
     },
     "execution_count": 13,
     "metadata": {},
     "output_type": "execute_result"
    }
   ],
   "source": [
    "daily_sales_numbers = list(range(100))\n",
    "\n",
    "tf_dataset = tf.data.Dataset.from_tensor_slices(daily_sales_numbers)\n",
    "\n",
    "ds_count = len(tf_dataset)\n",
    "train_size = int(ds_count * 0.8)\n",
    "\n",
    "train_ds = tf_dataset.take(train_size)\n",
    "test_ds  = tf_dataset.skip(train_size)\n",
    "\n",
    "len(train_ds), len(test_ds)"
   ]
  },
  {
   "cell_type": "markdown",
   "id": "848a4f26-f6a9-4a9a-ab89-4e0caf7da992",
   "metadata": {},
   "source": [
    "## StringLookup \n",
    "- 문자열을 정수 index로 mapping 하여 vocabulary 사전 작성"
   ]
  },
  {
   "cell_type": "code",
   "execution_count": 14,
   "id": "bc1d769e-fa55-44c9-a733-971dbd00e0fc",
   "metadata": {},
   "outputs": [
    {
     "name": "stdout",
     "output_type": "stream",
     "text": [
      "tf.Tensor(\n",
      "[[1 3 2]\n",
      " [2 4 1]], shape=(2, 3), dtype=int64)\n",
      "Vocabulary: ['[UNK]', 'apple', 'banana', 'orange', 'grape']\n"
     ]
    }
   ],
   "source": [
    "import tensorflow as tf\n",
    "from tensorflow.keras.layers import StringLookup\n",
    "\n",
    "# 예제 데이터셋 생성\n",
    "vocab = [\"apple\", \"banana\", \"orange\", \"grape\"]\n",
    "data = [[\"apple\", \"orange\", \"banana\"], [\"banana\", \"grape\", \"apple\"]]\n",
    "\n",
    "# StringLookup 레이어 생성 및 어휘(vocabulary) 설정\n",
    "string_lookup = StringLookup(vocabulary=vocab, mask_token=None)\n",
    "\n",
    "# 데이터를 정수 인덱스로 변환\n",
    "indices = string_lookup(data)\n",
    "\n",
    "# 결과 출력\n",
    "print(indices)\n",
    "\n",
    "# 어휘 사전 조회\n",
    "vocab_list = string_lookup.get_vocabulary()\n",
    "\n",
    "# 어휘 사전 출력\n",
    "print(\"Vocabulary:\", vocab_list)"
   ]
  },
  {
   "cell_type": "markdown",
   "id": "3b6b76c1-60e1-4e34-af28-cd872bbffc75",
   "metadata": {},
   "source": [
    "## Embedding Layer"
   ]
  },
  {
   "cell_type": "code",
   "execution_count": 15,
   "id": "460a57b8-1e9b-4a20-81e6-0943f865124a",
   "metadata": {},
   "outputs": [
    {
     "name": "stdout",
     "output_type": "stream",
     "text": [
      "1/1 [==============================] - 0s 68ms/step\n",
      "(2, 5, 32)\n",
      "[[[-0.01971922  0.02207631 -0.04662553 -0.04253106 -0.02734951\n",
      "    0.0406588  -0.00061249 -0.02470632  0.00350528  0.00197375\n",
      "   -0.00865706 -0.03523492  0.04360373  0.03724784  0.0481537\n",
      "    0.00471278 -0.03360472  0.02409854 -0.0023606  -0.00968312\n",
      "   -0.03683097 -0.04464549 -0.01498514  0.02074439  0.04754834\n",
      "   -0.04122965 -0.0408228   0.02771798 -0.01582999 -0.04303341\n",
      "    0.01259701 -0.04938173]\n",
      "  [ 0.00753429 -0.03045622 -0.04151043  0.0414545  -0.00607675\n",
      "   -0.01192582 -0.01513904 -0.03280842 -0.04408692  0.00694034\n",
      "   -0.01954736 -0.03955538 -0.02612366  0.01281765 -0.01381334\n",
      "   -0.00616728  0.04593951  0.03639991 -0.007167   -0.03010724\n",
      "    0.03252793  0.02388528  0.0413456  -0.04652636 -0.00368999\n",
      "    0.03836865  0.0424743  -0.00068066 -0.04904016 -0.01522862\n",
      "   -0.03746773 -0.04455226]\n",
      "  [-0.01566799  0.02373822  0.03697922 -0.03106792  0.04784943\n",
      "   -0.03909376  0.00163611 -0.04805058 -0.00697832 -0.0490486\n",
      "    0.01111058  0.02257657  0.04775355  0.01962167 -0.02768917\n",
      "    0.0269491   0.00341199  0.00602213  0.0132981  -0.04240517\n",
      "    0.01838281 -0.04490575 -0.04113978  0.00343893 -0.0231081\n",
      "   -0.03022983 -0.02853409 -0.03403386  0.03303209  0.00324567\n",
      "   -0.04191792  0.04909677]\n",
      "  [-0.0171173   0.00908421  0.02270565 -0.00093596 -0.01374783\n",
      "    0.00953158  0.04903347  0.03319185  0.01304891  0.00265463\n",
      "   -0.04461597  0.01661153 -0.03684779  0.02687642 -0.02999104\n",
      "    0.03590021  0.04299495 -0.04256699  0.00185424  0.02624489\n",
      "    0.04121507 -0.02029048  0.01410561  0.01243799 -0.03498958\n",
      "   -0.0208747  -0.00458694 -0.01421071 -0.015369    0.01084254\n",
      "   -0.00271144 -0.04854267]\n",
      "  [-0.01777364  0.01865212  0.01630657 -0.04041989 -0.01692927\n",
      "    0.01660936 -0.03094442  0.03614339 -0.02590672 -0.01965176\n",
      "    0.03586621  0.04673534 -0.03915465  0.03564963 -0.04331111\n",
      "    0.02512744 -0.03804107 -0.03837029 -0.02574017  0.04627654\n",
      "   -0.03054817  0.00660091 -0.03380239 -0.02087159 -0.00486369\n",
      "    0.02827564  0.00111534  0.03730902  0.04541627 -0.01909575\n",
      "    0.03483177  0.03525431]]\n",
      "\n",
      " [[-0.01777364  0.01865212  0.01630657 -0.04041989 -0.01692927\n",
      "    0.01660936 -0.03094442  0.03614339 -0.02590672 -0.01965176\n",
      "    0.03586621  0.04673534 -0.03915465  0.03564963 -0.04331111\n",
      "    0.02512744 -0.03804107 -0.03837029 -0.02574017  0.04627654\n",
      "   -0.03054817  0.00660091 -0.03380239 -0.02087159 -0.00486369\n",
      "    0.02827564  0.00111534  0.03730902  0.04541627 -0.01909575\n",
      "    0.03483177  0.03525431]\n",
      "  [-0.0171173   0.00908421  0.02270565 -0.00093596 -0.01374783\n",
      "    0.00953158  0.04903347  0.03319185  0.01304891  0.00265463\n",
      "   -0.04461597  0.01661153 -0.03684779  0.02687642 -0.02999104\n",
      "    0.03590021  0.04299495 -0.04256699  0.00185424  0.02624489\n",
      "    0.04121507 -0.02029048  0.01410561  0.01243799 -0.03498958\n",
      "   -0.0208747  -0.00458694 -0.01421071 -0.015369    0.01084254\n",
      "   -0.00271144 -0.04854267]\n",
      "  [-0.01566799  0.02373822  0.03697922 -0.03106792  0.04784943\n",
      "   -0.03909376  0.00163611 -0.04805058 -0.00697832 -0.0490486\n",
      "    0.01111058  0.02257657  0.04775355  0.01962167 -0.02768917\n",
      "    0.0269491   0.00341199  0.00602213  0.0132981  -0.04240517\n",
      "    0.01838281 -0.04490575 -0.04113978  0.00343893 -0.0231081\n",
      "   -0.03022983 -0.02853409 -0.03403386  0.03303209  0.00324567\n",
      "   -0.04191792  0.04909677]\n",
      "  [ 0.00753429 -0.03045622 -0.04151043  0.0414545  -0.00607675\n",
      "   -0.01192582 -0.01513904 -0.03280842 -0.04408692  0.00694034\n",
      "   -0.01954736 -0.03955538 -0.02612366  0.01281765 -0.01381334\n",
      "   -0.00616728  0.04593951  0.03639991 -0.007167   -0.03010724\n",
      "    0.03252793  0.02388528  0.0413456  -0.04652636 -0.00368999\n",
      "    0.03836865  0.0424743  -0.00068066 -0.04904016 -0.01522862\n",
      "   -0.03746773 -0.04455226]\n",
      "  [-0.01971922  0.02207631 -0.04662553 -0.04253106 -0.02734951\n",
      "    0.0406588  -0.00061249 -0.02470632  0.00350528  0.00197375\n",
      "   -0.00865706 -0.03523492  0.04360373  0.03724784  0.0481537\n",
      "    0.00471278 -0.03360472  0.02409854 -0.0023606  -0.00968312\n",
      "   -0.03683097 -0.04464549 -0.01498514  0.02074439  0.04754834\n",
      "   -0.04122965 -0.0408228   0.02771798 -0.01582999 -0.04303341\n",
      "    0.01259701 -0.04938173]]]\n"
     ]
    }
   ],
   "source": [
    "from tensorflow.keras.layers import Embedding\n",
    "\n",
    "# Embedding 레이어 설정\n",
    "# 여기서는 최대 어휘 크기를 10000으로, 임베딩 벡터의 차원을 32로 설정합니다.\n",
    "embedding_layer = Embedding(input_dim=10000, output_dim=32)\n",
    "\n",
    "# 간단한 모델 생성 및 Embedding 레이어 추가\n",
    "model = tf.keras.Sequential([\n",
    "    embedding_layer\n",
    "])\n",
    "\n",
    "# 예제 데이터 - 일반적으로 여기서는 각 정수가 어휘 사전의 단어를 나타냅니다.\n",
    "# 예를 들어, 5는 어휘 사전의 6번째 단어를 의미합니다(인덱싱은 0부터 시작).\n",
    "input_data = [[1, 2, 3, 4, 5], [5, 4, 3, 2, 1]]\n",
    "\n",
    "# 모델을 통해 입력 데이터를 임베딩 벡터로 변환\n",
    "output_data = model.predict(input_data)\n",
    "\n",
    "# 임베딩 결과 출력\n",
    "print(output_data.shape)\n",
    "print(output_data)"
   ]
  },
  {
   "cell_type": "markdown",
   "id": "62343ef2-d638-497d-bc9d-8cb3ed83c7ab",
   "metadata": {},
   "source": []
  },
  {
   "cell_type": "code",
   "execution_count": 17,
   "id": "8712db4b-3f76-4a54-a24e-6b39402aa31f",
   "metadata": {},
   "outputs": [
    {
     "name": "stdout",
     "output_type": "stream",
     "text": [
      "Embedded data: [[-0.03632933  0.00081471 -0.02350252 -0.04285234  0.04859957 -0.01085646\n",
      "   0.04851237  0.03186392]\n",
      " [ 0.00653478 -0.01706654 -0.02110559  0.04784301  0.00015245  0.03750508\n",
      "   0.00052039  0.00686011]\n",
      " [ 0.04971243  0.02336747 -0.02216467  0.03158424 -0.00508889  0.03314925\n",
      "   0.00824787 -0.02050964]\n",
      " [-0.034262   -0.03014683 -0.01995154  0.01962764  0.04355304 -0.03027788\n",
      "   0.0030066   0.00131402]]\n"
     ]
    }
   ],
   "source": [
    "# 예제 텍스트 데이터\n",
    "texts = ['apple', 'banana', 'orange', 'grape']\n",
    "\n",
    "# 어휘 사전 생성\n",
    "vocab = ['apple', 'banana', 'orange', 'grape']\n",
    "vocab_size = len(vocab)\n",
    "\n",
    "# StringLookup 레이어 생성\n",
    "string_lookup = StringLookup(vocabulary=vocab, mask_token=None, output_mode='int')\n",
    "\n",
    "# Embedding 레이어 설정\n",
    "# 어휘 사전 크기에 1을 더해야 하는 이유는 StringLookup 레이어가 0을 패딩 인덱스로 사용하기 때문입니다.\n",
    "embedding_layer = Embedding(input_dim=vocab_size + 1, output_dim=8)\n",
    "\n",
    "# 모델 생성 및 레이어 추가\n",
    "model = tf.keras.Sequential([\n",
    "    string_lookup,\n",
    "    embedding_layer\n",
    "])\n",
    "\n",
    "# 텍스트 데이터를 정수 인덱스로 변환 후 임베딩 벡터로 매핑\n",
    "input_data = tf.constant(texts)\n",
    "embedded_data = model(input_data)\n",
    "\n",
    "# 결과 출력\n",
    "print(\"Embedded data:\", embedded_data.numpy())"
   ]
  },
  {
   "cell_type": "code",
   "execution_count": null,
   "id": "e5611586-2632-4702-80f5-d07ea66538c5",
   "metadata": {},
   "outputs": [],
   "source": []
  }
 ],
 "metadata": {
  "kernelspec": {
   "display_name": "Python 3 (ipykernel)",
   "language": "python",
   "name": "python3"
  },
  "language_info": {
   "codemirror_mode": {
    "name": "ipython",
    "version": 3
   },
   "file_extension": ".py",
   "mimetype": "text/x-python",
   "name": "python",
   "nbconvert_exporter": "python",
   "pygments_lexer": "ipython3",
   "version": "3.9.16"
  }
 },
 "nbformat": 4,
 "nbformat_minor": 5
}
