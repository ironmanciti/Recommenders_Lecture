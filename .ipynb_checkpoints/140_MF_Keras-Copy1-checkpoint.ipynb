{
 "cells": [
  {
   "cell_type": "markdown",
   "id": "7fe40255",
   "metadata": {
    "id": "7fe40255"
   },
   "source": [
    "# 140. User-Item based Collaborative Filtering - Matrix Factorization\n",
    "\n",
    "## Keras로 MF(Matrix Factorization) 구현하기\n",
    "\n",
    "\n",
    "### MF 방식의 원리\n",
    "\n",
    "<img src=\"https://petamind.com/wp-content/uploads/2019/12/ml-mf-matrix-factorization-_op.svg\" width=400 />\n",
    "\n",
    "$$R \\approx P\\times Q^T=\\hat{R}$$\n",
    "\n",
    "R: Rating matrix, P: User latent matrix, Q: Item latent matrix, k: latent factor(잠재 요인), $\\hat{R}$: 예측값\n",
    "\n",
    "- R 행렬의 각 element는 해당 사용자 아이템에 대한 평점. 이 행렬은 사용자가 실제로 평가한 아이템에 대한 평점만을 가지고 있으므로 많은 원소가 null 로 채워진 sparse matrix 이다.\n",
    "- R 행렬을 사용자 행렬 (P)와 아이템 행렬(Q)로 쪼개어 분석하는 방법이  MF  \n",
    "- $\\hat{R}$이 최대한 R에 가까운 값을 가지도록 하는 P와 Q를 구하면 그 것이 바로 추천을 위한 model이 된다.\n",
    "\n",
    "$$\\hat{r_{ij}}=b+bu_i + bd_j + \\sum_{k=1}^k{p_{ik}q_{kj}}$$\n",
    "\n",
    "$\\hat{r_{ij}}$: 사용자 i 의 아이템 j 에  대한 예측값,  \n",
    "b: 전체 평균. 일단 데이터가 주어지면 하나로 정해지는 값   \n",
    "$bu_i$: 전체 평균을 제거한 후 사용자 i의 평가 경향(사용자 i의 평균과 전체 평균의 차이)     \n",
    "$bd_j$: 전체 평균을 제거한 후 아이템 j의 평가 경향(아이템 j의 평균과 전체 평균의 차이)   \n",
    "$p_{ik}$: 행렬 P의 i 번째 사용자 vector    \n",
    "$q_{kj}$: 행렬 Q의 column j 번째 item vector\n",
    "\n",
    "### MF 를 신경망으로 구현\n",
    "\n",
    "<img src=\"https://ichi.pro/assets/images/max/724/1*VqQ5B6ah4KhbDKNBgX-cfg.png\" />\n",
    "\n",
    "- Input Layer 는 one-hot-encoding 과 같다. \n",
    "- Embedding Layer 는 latent factor d 에 해당.  \n",
    "- 사용자와 아이템의 경향성(bias)을 feature 가 1 인  Embedding 으로 구현  \n",
    "- 전체 평균(b)는 하나의 숫자이므로 신경망의 target value에서 일률적으로 빼 주고, 나중에 산출된 예측치에 일률적으로 더해주는 것이 전체 평균을 모델화 하는 것 보다 간단함."
   ]
  },
  {
   "cell_type": "code",
   "execution_count": 1,
   "id": "2461d83d",
   "metadata": {
    "colab": {
     "base_uri": "https://localhost:8080/",
     "height": 206
    },
    "id": "2461d83d",
    "outputId": "219597f8-deba-4e50-d646-d3c4cbf30f5a"
   },
   "outputs": [
    {
     "data": {
      "text/html": [
       "<div>\n",
       "<style scoped>\n",
       "    .dataframe tbody tr th:only-of-type {\n",
       "        vertical-align: middle;\n",
       "    }\n",
       "\n",
       "    .dataframe tbody tr th {\n",
       "        vertical-align: top;\n",
       "    }\n",
       "\n",
       "    .dataframe thead th {\n",
       "        text-align: right;\n",
       "    }\n",
       "</style>\n",
       "<table border=\"1\" class=\"dataframe\">\n",
       "  <thead>\n",
       "    <tr style=\"text-align: right;\">\n",
       "      <th></th>\n",
       "      <th>user_id</th>\n",
       "      <th>movie_id</th>\n",
       "      <th>rating</th>\n",
       "    </tr>\n",
       "  </thead>\n",
       "  <tbody>\n",
       "    <tr>\n",
       "      <th>0</th>\n",
       "      <td>196</td>\n",
       "      <td>242</td>\n",
       "      <td>3</td>\n",
       "    </tr>\n",
       "    <tr>\n",
       "      <th>1</th>\n",
       "      <td>186</td>\n",
       "      <td>302</td>\n",
       "      <td>3</td>\n",
       "    </tr>\n",
       "    <tr>\n",
       "      <th>2</th>\n",
       "      <td>22</td>\n",
       "      <td>377</td>\n",
       "      <td>1</td>\n",
       "    </tr>\n",
       "    <tr>\n",
       "      <th>3</th>\n",
       "      <td>244</td>\n",
       "      <td>51</td>\n",
       "      <td>2</td>\n",
       "    </tr>\n",
       "    <tr>\n",
       "      <th>4</th>\n",
       "      <td>166</td>\n",
       "      <td>346</td>\n",
       "      <td>1</td>\n",
       "    </tr>\n",
       "  </tbody>\n",
       "</table>\n",
       "</div>"
      ],
      "text/plain": [
       "   user_id  movie_id  rating\n",
       "0      196       242       3\n",
       "1      186       302       3\n",
       "2       22       377       1\n",
       "3      244        51       2\n",
       "4      166       346       1"
      ]
     },
     "execution_count": 1,
     "metadata": {},
     "output_type": "execute_result"
    }
   ],
   "source": [
    "import pandas as pd\n",
    "import numpy as np\n",
    "import tensorflow as tf\n",
    "from sklearn.metrics import mean_squared_error\n",
    "from sklearn.model_selection import train_test_split\n",
    "import matplotlib.pyplot as plt\n",
    "from tensorflow.keras import layers\n",
    "from tensorflow.keras.models import Model\n",
    "from tensorflow.keras.layers import Input, Embedding, Dot, Add, Flatten,  Concatenate, Dense\n",
    "\n",
    "r_cols = ['user_id', 'movie_id', 'rating', 'timestamp']\n",
    "ratings = pd.read_csv('data/u.rating', names=r_cols,  sep='\\t',encoding='latin-1')\n",
    "ratings = ratings[['user_id', 'movie_id', 'rating']].astype(int)            # timestamp 제거\n",
    "ratings.head()"
   ]
  },
  {
   "cell_type": "code",
   "execution_count": 2,
   "id": "d43d0d81",
   "metadata": {
    "colab": {
     "base_uri": "https://localhost:8080/"
    },
    "id": "d43d0d81",
    "outputId": "f30022c4-520c-4ca6-b2af-e48565eb4130"
   },
   "outputs": [
    {
     "data": {
      "text/plain": [
       "((75000, 3), (25000, 3))"
      ]
     },
     "execution_count": 2,
     "metadata": {},
     "output_type": "execute_result"
    }
   ],
   "source": [
    "# train test set 분리\n",
    "train_ratings, test_ratings = train_test_split(ratings, test_size=0.25, random_state=0)\n",
    "train_ratings.shape, test_ratings.shape"
   ]
  },
  {
   "cell_type": "code",
   "execution_count": 3,
   "id": "1e11347a",
   "metadata": {
    "colab": {
     "base_uri": "https://localhost:8080/"
    },
    "id": "1e11347a",
    "outputId": "07acf1f3-3801-473a-afa1-bdf934937a96"
   },
   "outputs": [
    {
     "data": {
      "text/plain": [
       "(200, 3.5318933333333336, 944, 1683)"
      ]
     },
     "execution_count": 3,
     "metadata": {},
     "output_type": "execute_result"
    }
   ],
   "source": [
    "# Variable 초기화 \n",
    "K = 200                             # Latent factor 수 \n",
    "mu = train_ratings.rating.mean()    # 전체 평균 \n",
    "M = ratings.user_id.max() + 1       # Number of users - Embedding 이 0 부터 시작하므로 + 1\n",
    "N = ratings.movie_id.max() + 1      # Number of movies\n",
    "\n",
    "K, mu, M, N"
   ]
  },
  {
   "cell_type": "code",
   "execution_count": 4,
   "id": "681410c6",
   "metadata": {
    "colab": {
     "base_uri": "https://localhost:8080/"
    },
    "id": "681410c6",
    "outputId": "35cd19fb-767c-4393-96cd-1616fef16830"
   },
   "outputs": [
    {
     "data": {
      "text/plain": [
       "TensorShape([200])"
      ]
     },
     "execution_count": 4,
     "metadata": {},
     "output_type": "execute_result"
    }
   ],
   "source": [
    "Embedding(M, K)(1).shape"
   ]
  },
  {
   "cell_type": "markdown",
   "id": "e91160cf",
   "metadata": {
    "id": "e91160cf"
   },
   "source": [
    "### Shallow Neural Network\n",
    "MF 구조 이해를 위해 hidden layer를 생략하고 Input, Embedding, Output Layer 로만 network 구성"
   ]
  },
  {
   "cell_type": "code",
   "execution_count": 21,
   "id": "3118c96b",
   "metadata": {
    "colab": {
     "base_uri": "https://localhost:8080/"
    },
    "id": "3118c96b",
    "outputId": "7bc68a56-7d89-4310-ae84-2c841e9fa227"
   },
   "outputs": [
    {
     "name": "stdout",
     "output_type": "stream",
     "text": [
      "Model: \"model_2\"\n",
      "__________________________________________________________________________________________________\n",
      " Layer (type)                   Output Shape         Param #     Connected to                     \n",
      "==================================================================================================\n",
      " p_ik (InputLayer)              [(None, 1)]          0           []                               \n",
      "                                                                                                  \n",
      " q_kj (InputLayer)              [(None, 1)]          0           []                               \n",
      "                                                                                                  \n",
      " P (Embedding)                  (None, 1, 200)       188800      ['p_ik[0][0]']                   \n",
      "                                                                                                  \n",
      " Q (Embedding)                  (None, 1, 200)       336600      ['q_kj[0][0]']                   \n",
      "                                                                                                  \n",
      " bu (Embedding)                 (None, 1, 1)         944         ['p_ik[0][0]']                   \n",
      "                                                                                                  \n",
      " bd (Embedding)                 (None, 1, 1)         1683        ['q_kj[0][0]']                   \n",
      "                                                                                                  \n",
      " flatten_2 (Flatten)            (None, 200)          0           ['P[0][0]']                      \n",
      "                                                                                                  \n",
      " flatten_3 (Flatten)            (None, 200)          0           ['Q[0][0]']                      \n",
      "                                                                                                  \n",
      " flatten_4 (Flatten)            (None, 1)            0           ['bu[0][0]']                     \n",
      "                                                                                                  \n",
      " flatten_5 (Flatten)            (None, 1)            0           ['bd[0][0]']                     \n",
      "                                                                                                  \n",
      " concatenate (Concatenate)      (None, 402)          0           ['flatten_2[0][0]',              \n",
      "                                                                  'flatten_3[0][0]',              \n",
      "                                                                  'flatten_4[0][0]',              \n",
      "                                                                  'flatten_5[0][0]']              \n",
      "                                                                                                  \n",
      " dense_3 (Dense)                (None, 2048)         825344      ['concatenate[0][0]']            \n",
      "                                                                                                  \n",
      " dense_4 (Dense)                (None, 256)          524544      ['dense_3[0][0]']                \n",
      "                                                                                                  \n",
      " dense_5 (Dense)                (None, 1)            257         ['dense_4[0][0]']                \n",
      "                                                                                                  \n",
      "==================================================================================================\n",
      "Total params: 1,878,172\n",
      "Trainable params: 1,878,172\n",
      "Non-trainable params: 0\n",
      "__________________________________________________________________________________________________\n"
     ]
    }
   ],
   "source": [
    "# Keras model\n",
    "user = Input(shape=(1, ), name=\"p_ik\")                                               # User input\n",
    "item = Input(shape=(1, ), name=\"q_kj\")                                               # Item input\n",
    "P_embedding = Embedding(M, K, name=\"P\")(user)        # (M,  K)\n",
    "Q_embedding = Embedding(N, K, name=\"Q\")(item)        # (N,  K)\n",
    "\n",
    "user_bias = Embedding(M, 1, name=\"bu\")(user)          # User bias term (M, 1)\n",
    "item_bias = Embedding(N, 1, name=\"bd\")(item)          # Item bias term (N, 1)\n",
    "\n",
    "# Concatenate하기 위해 Embedding Layer들을 1차원으로 flatten\n",
    "P_embedding = Flatten()(P_embedding)           #(K,)\n",
    "Q_embedding = Flatten()(Q_embedding)          #(K,)\n",
    "user_bias = Flatten()(user_bias)                      #(1,)\n",
    "item_bias = Flatten()(item_bias)                      #(1,)\n",
    "\n",
    "# 4개의 embedding layer들을 concatenate\n",
    "R = Concatenate()([P_embedding, Q_embedding, user_bias, item_bias])   #(2K+2,)\n",
    "\n",
    "# Hidden Layer로 연결\n",
    "R = Dense(2048, activation='relu')(R)\n",
    "R = Dense(256, activation='relu')(R)\n",
    "R = Dense(1)(R)\n",
    "\n",
    "# Model setting\n",
    "model = Model(inputs=[user, item], outputs=R)\n",
    "\n",
    "model.compile(\n",
    "  loss=\"mse\",\n",
    "  optimizer=\"sgd\",\n",
    "  metrics=[\"mse\"]\n",
    ")\n",
    "\n",
    "model.summary()"
   ]
  },
  {
   "cell_type": "code",
   "execution_count": 23,
   "id": "fb83b538",
   "metadata": {
    "colab": {
     "base_uri": "https://localhost:8080/",
     "height": 466
    },
    "id": "fb83b538",
    "outputId": "0a6b328a-6617-4ad1-8d4a-94efedaf3fac",
    "scrolled": false
   },
   "outputs": [
    {
     "data": {
      "image/png": "[encoded data removed]",
      "text/plain": [
       "<IPython.core.display.Image object>"
      ]
     },
     "execution_count": 23,
     "metadata": {},
     "output_type": "execute_result"
    }
   ],
   "source": [
    "tf.keras.utils.plot_model(model)"
   ]
  },
  {
   "cell_type": "code",
   "execution_count": 24,
   "id": "da9032c4",
   "metadata": {
    "colab": {
     "base_uri": "https://localhost:8080/"
    },
    "id": "da9032c4",
    "outputId": "981b084b-6596-4604-ae70-d2393a5cedd3",
    "scrolled": true
   },
   "outputs": [
    {
     "name": "stdout",
     "output_type": "stream",
     "text": [
      "Epoch 1/60\n",
      "293/293 [==============================] - 3s 11ms/step - loss: 1.2627 - mse: 1.2627 - val_loss: 1.2676 - val_mse: 1.2676\n",
      "Epoch 2/60\n",
      "293/293 [==============================] - 3s 11ms/step - loss: 1.2570 - mse: 1.2570 - val_loss: 1.2611 - val_mse: 1.2611\n",
      "Epoch 3/60\n",
      "293/293 [==============================] - 3s 11ms/step - loss: 1.2490 - mse: 1.2490 - val_loss: 1.2510 - val_mse: 1.2510\n",
      "Epoch 4/60\n",
      "293/293 [==============================] - 4s 13ms/step - loss: 1.2362 - mse: 1.2362 - val_loss: 1.2347 - val_mse: 1.2347\n",
      "Epoch 5/60\n",
      "293/293 [==============================] - 4s 13ms/step - loss: 1.2146 - mse: 1.2146 - val_loss: 1.2068 - val_mse: 1.2068\n",
      "Epoch 6/60\n",
      "293/293 [==============================] - 4s 13ms/step - loss: 1.1774 - mse: 1.1774 - val_loss: 1.1599 - val_mse: 1.1599\n",
      "Epoch 7/60\n",
      "293/293 [==============================] - 4s 13ms/step - loss: 1.1185 - mse: 1.1185 - val_loss: 1.0946 - val_mse: 1.0946\n",
      "Epoch 8/60\n",
      "293/293 [==============================] - 4s 13ms/step - loss: 1.0479 - mse: 1.0479 - val_loss: 1.0329 - val_mse: 1.0329\n",
      "Epoch 9/60\n",
      "293/293 [==============================] - 4s 13ms/step - loss: 0.9909 - mse: 0.9909 - val_loss: 0.9922 - val_mse: 0.9922\n",
      "Epoch 10/60\n",
      "293/293 [==============================] - 4s 13ms/step - loss: 0.9529 - mse: 0.9529 - val_loss: 0.9653 - val_mse: 0.9653\n",
      "Epoch 11/60\n",
      "293/293 [==============================] - 4s 12ms/step - loss: 0.9264 - mse: 0.9264 - val_loss: 0.9477 - val_mse: 0.9477\n",
      "Epoch 12/60\n",
      "293/293 [==============================] - 4s 13ms/step - loss: 0.9067 - mse: 0.9067 - val_loss: 0.9329 - val_mse: 0.9329\n",
      "Epoch 13/60\n",
      "293/293 [==============================] - 4s 13ms/step - loss: 0.8921 - mse: 0.8921 - val_loss: 0.9217 - val_mse: 0.9217\n",
      "Epoch 14/60\n",
      "293/293 [==============================] - 4s 13ms/step - loss: 0.8807 - mse: 0.8807 - val_loss: 0.9147 - val_mse: 0.9147\n",
      "Epoch 15/60\n",
      "293/293 [==============================] - 4s 12ms/step - loss: 0.8718 - mse: 0.8718 - val_loss: 0.9071 - val_mse: 0.9071\n",
      "Epoch 16/60\n",
      "293/293 [==============================] - 4s 12ms/step - loss: 0.8649 - mse: 0.8649 - val_loss: 0.9023 - val_mse: 0.9023\n",
      "Epoch 17/60\n",
      "293/293 [==============================] - 3s 12ms/step - loss: 0.8590 - mse: 0.8590 - val_loss: 0.8990 - val_mse: 0.8990\n",
      "Epoch 18/60\n",
      "293/293 [==============================] - 3s 12ms/step - loss: 0.8544 - mse: 0.8544 - val_loss: 0.9028 - val_mse: 0.9028\n",
      "Epoch 19/60\n",
      "293/293 [==============================] - 3s 12ms/step - loss: 0.8515 - mse: 0.8515 - val_loss: 0.8939 - val_mse: 0.8939\n",
      "Epoch 20/60\n",
      "293/293 [==============================] - 3s 12ms/step - loss: 0.8481 - mse: 0.8481 - val_loss: 0.8921 - val_mse: 0.8921\n",
      "Epoch 21/60\n",
      "293/293 [==============================] - 3s 12ms/step - loss: 0.8458 - mse: 0.8458 - val_loss: 0.8912 - val_mse: 0.8912\n",
      "Epoch 22/60\n",
      "293/293 [==============================] - 3s 12ms/step - loss: 0.8433 - mse: 0.8433 - val_loss: 0.8895 - val_mse: 0.8895\n",
      "Epoch 23/60\n",
      "293/293 [==============================] - 3s 12ms/step - loss: 0.8413 - mse: 0.8413 - val_loss: 0.8889 - val_mse: 0.8889\n",
      "Epoch 24/60\n",
      "293/293 [==============================] - 3s 12ms/step - loss: 0.8396 - mse: 0.8396 - val_loss: 0.8886 - val_mse: 0.8886\n",
      "Epoch 25/60\n",
      "293/293 [==============================] - 3s 12ms/step - loss: 0.8383 - mse: 0.8383 - val_loss: 0.8880 - val_mse: 0.8880\n",
      "Epoch 26/60\n",
      "293/293 [==============================] - 3s 12ms/step - loss: 0.8370 - mse: 0.8370 - val_loss: 0.8878 - val_mse: 0.8878\n",
      "Epoch 27/60\n",
      "293/293 [==============================] - 3s 12ms/step - loss: 0.8356 - mse: 0.8356 - val_loss: 0.8884 - val_mse: 0.8884\n",
      "Epoch 28/60\n",
      "293/293 [==============================] - 3s 12ms/step - loss: 0.8349 - mse: 0.8349 - val_loss: 0.8866 - val_mse: 0.8866\n",
      "Epoch 29/60\n",
      "293/293 [==============================] - 3s 12ms/step - loss: 0.8339 - mse: 0.8339 - val_loss: 0.8885 - val_mse: 0.8885\n",
      "Epoch 30/60\n",
      "293/293 [==============================] - 3s 12ms/step - loss: 0.8329 - mse: 0.8329 - val_loss: 0.8919 - val_mse: 0.8919\n",
      "Epoch 31/60\n",
      "293/293 [==============================] - 3s 12ms/step - loss: 0.8317 - mse: 0.8317 - val_loss: 0.8870 - val_mse: 0.8870\n",
      "Epoch 32/60\n",
      "293/293 [==============================] - 4s 12ms/step - loss: 0.8310 - mse: 0.8310 - val_loss: 0.8877 - val_mse: 0.8877\n",
      "Epoch 33/60\n",
      "293/293 [==============================] - 3s 12ms/step - loss: 0.8303 - mse: 0.8303 - val_loss: 0.8899 - val_mse: 0.8899\n",
      "Epoch 34/60\n",
      "293/293 [==============================] - 4s 12ms/step - loss: 0.8293 - mse: 0.8293 - val_loss: 0.8950 - val_mse: 0.8950\n",
      "Epoch 35/60\n",
      "293/293 [==============================] - 3s 12ms/step - loss: 0.8285 - mse: 0.8285 - val_loss: 0.8880 - val_mse: 0.8880\n",
      "Epoch 36/60\n",
      "293/293 [==============================] - 3s 12ms/step - loss: 0.8279 - mse: 0.8279 - val_loss: 0.8856 - val_mse: 0.8856\n",
      "Epoch 37/60\n",
      "293/293 [==============================] - 4s 12ms/step - loss: 0.8275 - mse: 0.8275 - val_loss: 0.8857 - val_mse: 0.8857\n",
      "Epoch 38/60\n",
      "293/293 [==============================] - 4s 13ms/step - loss: 0.8265 - mse: 0.8265 - val_loss: 0.8897 - val_mse: 0.8897\n",
      "Epoch 39/60\n",
      "293/293 [==============================] - 4s 12ms/step - loss: 0.8258 - mse: 0.8258 - val_loss: 0.8846 - val_mse: 0.8846\n",
      "Epoch 40/60\n",
      "293/293 [==============================] - 4s 12ms/step - loss: 0.8249 - mse: 0.8249 - val_loss: 0.8908 - val_mse: 0.8908\n",
      "Epoch 41/60\n",
      "293/293 [==============================] - 4s 13ms/step - loss: 0.8247 - mse: 0.8247 - val_loss: 0.8864 - val_mse: 0.8864\n",
      "Epoch 42/60\n",
      "293/293 [==============================] - 4s 13ms/step - loss: 0.8239 - mse: 0.8239 - val_loss: 0.8842 - val_mse: 0.8842\n",
      "Epoch 43/60\n",
      "293/293 [==============================] - 4s 13ms/step - loss: 0.8234 - mse: 0.8234 - val_loss: 0.8882 - val_mse: 0.8882\n",
      "Epoch 44/60\n",
      "293/293 [==============================] - 4s 13ms/step - loss: 0.8221 - mse: 0.8221 - val_loss: 0.8840 - val_mse: 0.8840\n",
      "Epoch 45/60\n",
      "293/293 [==============================] - 4s 12ms/step - loss: 0.8214 - mse: 0.8214 - val_loss: 0.8837 - val_mse: 0.8837\n",
      "Epoch 46/60\n",
      "293/293 [==============================] - 4s 12ms/step - loss: 0.8208 - mse: 0.8208 - val_loss: 0.8829 - val_mse: 0.8829\n",
      "Epoch 47/60\n",
      "293/293 [==============================] - 4s 12ms/step - loss: 0.8209 - mse: 0.8209 - val_loss: 0.8846 - val_mse: 0.8846\n",
      "Epoch 48/60\n",
      "293/293 [==============================] - 4s 12ms/step - loss: 0.8199 - mse: 0.8199 - val_loss: 0.8826 - val_mse: 0.8826\n",
      "Epoch 49/60\n",
      "293/293 [==============================] - 3s 12ms/step - loss: 0.8187 - mse: 0.8187 - val_loss: 0.8836 - val_mse: 0.8836\n",
      "Epoch 50/60\n",
      "293/293 [==============================] - 4s 12ms/step - loss: 0.8176 - mse: 0.8176 - val_loss: 0.8825 - val_mse: 0.8825\n",
      "Epoch 51/60\n",
      "293/293 [==============================] - 4s 12ms/step - loss: 0.8175 - mse: 0.8175 - val_loss: 0.8821 - val_mse: 0.8821\n",
      "Epoch 52/60\n",
      "293/293 [==============================] - 4s 12ms/step - loss: 0.8161 - mse: 0.8161 - val_loss: 0.8825 - val_mse: 0.8825\n",
      "Epoch 53/60\n",
      "293/293 [==============================] - 4s 12ms/step - loss: 0.8157 - mse: 0.8157 - val_loss: 0.8823 - val_mse: 0.8823\n",
      "Epoch 54/60\n",
      "293/293 [==============================] - 4s 12ms/step - loss: 0.8149 - mse: 0.8149 - val_loss: 0.8816 - val_mse: 0.8816\n",
      "Epoch 55/60\n",
      "293/293 [==============================] - 4s 12ms/step - loss: 0.8137 - mse: 0.8137 - val_loss: 0.8820 - val_mse: 0.8820\n",
      "Epoch 56/60\n",
      "293/293 [==============================] - 4s 12ms/step - loss: 0.8127 - mse: 0.8127 - val_loss: 0.8839 - val_mse: 0.8839\n",
      "Epoch 57/60\n",
      "293/293 [==============================] - 4s 12ms/step - loss: 0.8125 - mse: 0.8125 - val_loss: 0.8795 - val_mse: 0.8795\n",
      "Epoch 58/60\n",
      "293/293 [==============================] - 4s 12ms/step - loss: 0.8109 - mse: 0.8109 - val_loss: 0.8807 - val_mse: 0.8807\n",
      "Epoch 59/60\n",
      "293/293 [==============================] - 4s 12ms/step - loss: 0.8105 - mse: 0.8105 - val_loss: 0.8812 - val_mse: 0.8812\n",
      "Epoch 60/60\n",
      "293/293 [==============================] - 4s 12ms/step - loss: 0.8091 - mse: 0.8091 - val_loss: 0.8794 - val_mse: 0.8794\n"
     ]
    }
   ],
   "source": [
    "# Model Train\n",
    "history = model.fit(\n",
    "    [train_ratings.user_id.values, train_ratings.movie_id.values],  #(user, item)\n",
    "    train_ratings.rating.values - mu,        #(target value - 평균)\n",
    "  epochs=60,\n",
    "  batch_size=256,\n",
    "  validation_data=(\n",
    "    [test_ratings.user_id.values, test_ratings.movie_id.values],\n",
    "    test_ratings.rating.values - mu\n",
    "  )\n",
    ")"
   ]
  },
  {
   "cell_type": "code",
   "execution_count": 25,
   "id": "cd4d4fbf",
   "metadata": {
    "colab": {
     "base_uri": "https://localhost:8080/"
    },
    "id": "cd4d4fbf",
    "outputId": "fbdb66c6-76ee-45dc-90c2-6cec3bd0e183"
   },
   "outputs": [
    {
     "name": "stdout",
     "output_type": "stream",
     "text": [
      "782/782 [==============================] - 2s 3ms/step - loss: 0.8794 - mse: 0.8794\n"
     ]
    },
    {
     "data": {
      "text/plain": [
       "[0.8793633580207825, 0.8793633580207825]"
      ]
     },
     "execution_count": 25,
     "metadata": {},
     "output_type": "execute_result"
    }
   ],
   "source": [
    "model.evaluate([test_ratings.user_id.values, test_ratings.movie_id.values], test_ratings.rating.values - mu)"
   ]
  },
  {
   "cell_type": "code",
   "execution_count": 26,
   "id": "932063da",
   "metadata": {
    "colab": {
     "base_uri": "https://localhost:8080/",
     "height": 279
    },
    "id": "932063da",
    "outputId": "685520fb-d443-4e11-c021-af6e7eebd2d3"
   },
   "outputs": [
    {
     "data": {
      "image/png": "[encoded data removed]",
      "text/plain": [
       "<Figure size 432x288 with 1 Axes>"
      ]
     },
     "metadata": {
      "needs_background": "light"
     },
     "output_type": "display_data"
    }
   ],
   "source": [
    "# Plot RMSE\n",
    "plt.plot(history.history['mse'], label=\"Train MSE\")\n",
    "plt.plot(history.history['val_mse'], label=\"Test MSE\")\n",
    "plt.xlabel('epoch')\n",
    "plt.ylabel('MSE')\n",
    "plt.legend()\n",
    "plt.show()"
   ]
  },
  {
   "cell_type": "code",
   "execution_count": 27,
   "id": "0f87e29c",
   "metadata": {
    "colab": {
     "base_uri": "https://localhost:8080/"
    },
    "id": "0f87e29c",
    "outputId": "eef27460-3de2-4f5e-93c1-a81cb4425126"
   },
   "outputs": [
    {
     "name": "stdout",
     "output_type": "stream",
     "text": [
      "Actuals: \n",
      "        user_id  movie_id  rating\n",
      "3582        23       528       4\n",
      "60498      695       242       5\n",
      "53227      774        28       3\n",
      "21333      417       550       3\n",
      "3885       234      1035       3\n",
      "51521      586       800       3\n",
      "\n",
      "Predictions: \n",
      " [[4.006824 ]\n",
      " [4.0373425]\n",
      " [2.4522238]\n",
      " [3.1840494]\n",
      " [2.318367 ]\n",
      " [2.9256706]]\n"
     ]
    }
   ],
   "source": [
    "# Test set에서 6개만 골라 Prediction 하여 비교\n",
    "user_ids = test_ratings.user_id.values[0:6]\n",
    "movie_ids = test_ratings.movie_id.values[0:6]\n",
    "predictions = model.predict([user_ids, movie_ids]) + mu\n",
    "print(\"Actuals: \\n\", test_ratings[0:6])\n",
    "print( )\n",
    "print(\"Predictions: \\n\", predictions)"
   ]
  },
  {
   "cell_type": "code",
   "execution_count": 28,
   "id": "caf89219",
   "metadata": {
    "colab": {
     "base_uri": "https://localhost:8080/"
    },
    "id": "caf89219",
    "outputId": "105987cb-fa51-4f46-f7fb-356af1cec79f"
   },
   "outputs": [
    {
     "data": {
      "text/plain": [
       "0.8793633421329001"
      ]
     },
     "execution_count": 28,
     "metadata": {},
     "output_type": "execute_result"
    }
   ],
   "source": [
    "# Test set 전체의 mse 계산\n",
    "user_ids = test_ratings.user_id.values\n",
    "movie_ids = test_ratings.movie_id.values\n",
    "\n",
    "y_pred = model.predict([user_ids, movie_ids]) + mu\n",
    "y_true = test_ratings.rating.values\n",
    "\n",
    "mean_squared_error(y_true, y_pred, squared=True)"
   ]
  }
 ],
 "metadata": {
  "accelerator": "GPU",
  "colab": {
   "collapsed_sections": [],
   "name": "140_MF_Keras.ipynb",
   "provenance": []
  },
  "kernelspec": {
   "display_name": "Python 3 (ipykernel)",
   "language": "python",
   "name": "python3"
  },
  "language_info": {
   "codemirror_mode": {
    "name": "ipython",
    "version": 3
   },
   "file_extension": ".py",
   "mimetype": "text/x-python",
   "name": "python",
   "nbconvert_exporter": "python",
   "pygments_lexer": "ipython3",
   "version": "3.8.12"
  }
 },
 "nbformat": 4,
 "nbformat_minor": 5
}
