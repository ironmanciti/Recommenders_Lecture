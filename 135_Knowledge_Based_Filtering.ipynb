{
 "cells": [
  {
   "cell_type": "markdown",
   "id": "64350231-cd92-4817-9d92-7e2c8255e2d1",
   "metadata": {},
   "source": [
    "# Knowledge Based Filtering\n",
    "\n",
    "지식 기반 필터링(Knowledge-based Filtering)\"은 사용자가 제공한 명시적인 요구 사항을 바탕으로 아이템을 추천하는 시스템입니다. 이 방법은 사용자의 과거 행동이나 명확한 선호도가 부족할 때 유용하며, 사용자가 특정 요구 사항을 입력함으로써 추천을 받게 됩니다.\n",
    "\n",
    "예를 들어, 영화 추천 시스템에서 사용자가 선호하는 장르, 감독, 배우, 또는 영화의 특정 기능(예: 상영 시간, 연도 등)에 대한 선호도를 입력하면, 시스템은 이 정보를 기반으로 영화를 필터링하고 추천합니다.\n",
    "\n",
    "지식 기반 필터링의 예제 코드를 작성하기 전에, 우리는 몇 가지 가정을 해야 합니다. 예를 들어, 우리에게는 영화에 대한 정보가 담긴 movies 데이터프레임과 사용자가 요구하는 조건을 충족하는 영화를 추천하는 함수가 필요합니다."
   ]
  },
  {
   "cell_type": "code",
   "execution_count": 3,
   "id": "1634a7d4-1170-402f-bec3-eb1a04ef1890",
   "metadata": {},
   "outputs": [],
   "source": [
    "import pandas as pd\n",
    "\n",
    "# MovieLens 데이터셋 로드\n",
    "movies = pd.read_csv('data/ml-latest-small/movies.csv')\n",
    "ratings = pd.read_csv('data/ml-latest-small/ratings.csv')"
   ]
  },
  {
   "cell_type": "code",
   "execution_count": 6,
   "id": "d9a26648-7178-4335-abe4-ec76aa05743e",
   "metadata": {},
   "outputs": [
    {
     "data": {
      "text/html": [
       "<div>\n",
       "<style scoped>\n",
       "    .dataframe tbody tr th:only-of-type {\n",
       "        vertical-align: middle;\n",
       "    }\n",
       "\n",
       "    .dataframe tbody tr th {\n",
       "        vertical-align: top;\n",
       "    }\n",
       "\n",
       "    .dataframe thead th {\n",
       "        text-align: right;\n",
       "    }\n",
       "</style>\n",
       "<table border=\"1\" class=\"dataframe\">\n",
       "  <thead>\n",
       "    <tr style=\"text-align: right;\">\n",
       "      <th></th>\n",
       "      <th>movieId</th>\n",
       "      <th>title</th>\n",
       "      <th>genres</th>\n",
       "    </tr>\n",
       "  </thead>\n",
       "  <tbody>\n",
       "    <tr>\n",
       "      <th>0</th>\n",
       "      <td>1</td>\n",
       "      <td>Toy Story (1995)</td>\n",
       "      <td>Adventure|Animation|Children|Comedy|Fantasy</td>\n",
       "    </tr>\n",
       "    <tr>\n",
       "      <th>1</th>\n",
       "      <td>2</td>\n",
       "      <td>Jumanji (1995)</td>\n",
       "      <td>Adventure|Children|Fantasy</td>\n",
       "    </tr>\n",
       "  </tbody>\n",
       "</table>\n",
       "</div>"
      ],
      "text/plain": [
       "   movieId             title                                       genres\n",
       "0        1  Toy Story (1995)  Adventure|Animation|Children|Comedy|Fantasy\n",
       "1        2    Jumanji (1995)                   Adventure|Children|Fantasy"
      ]
     },
     "execution_count": 6,
     "metadata": {},
     "output_type": "execute_result"
    }
   ],
   "source": [
    "movies.head(2)"
   ]
  },
  {
   "cell_type": "code",
   "execution_count": 7,
   "id": "bdcbead4-9fa9-49e1-80ea-a98361625d2f",
   "metadata": {},
   "outputs": [
    {
     "data": {
      "text/html": [
       "<div>\n",
       "<style scoped>\n",
       "    .dataframe tbody tr th:only-of-type {\n",
       "        vertical-align: middle;\n",
       "    }\n",
       "\n",
       "    .dataframe tbody tr th {\n",
       "        vertical-align: top;\n",
       "    }\n",
       "\n",
       "    .dataframe thead th {\n",
       "        text-align: right;\n",
       "    }\n",
       "</style>\n",
       "<table border=\"1\" class=\"dataframe\">\n",
       "  <thead>\n",
       "    <tr style=\"text-align: right;\">\n",
       "      <th></th>\n",
       "      <th>userId</th>\n",
       "      <th>movieId</th>\n",
       "      <th>rating</th>\n",
       "      <th>timestamp</th>\n",
       "    </tr>\n",
       "  </thead>\n",
       "  <tbody>\n",
       "    <tr>\n",
       "      <th>0</th>\n",
       "      <td>1</td>\n",
       "      <td>1</td>\n",
       "      <td>4.0</td>\n",
       "      <td>964982703</td>\n",
       "    </tr>\n",
       "    <tr>\n",
       "      <th>1</th>\n",
       "      <td>1</td>\n",
       "      <td>3</td>\n",
       "      <td>4.0</td>\n",
       "      <td>964981247</td>\n",
       "    </tr>\n",
       "  </tbody>\n",
       "</table>\n",
       "</div>"
      ],
      "text/plain": [
       "   userId  movieId  rating  timestamp\n",
       "0       1        1     4.0  964982703\n",
       "1       1        3     4.0  964981247"
      ]
     },
     "execution_count": 7,
     "metadata": {},
     "output_type": "execute_result"
    }
   ],
   "source": [
    "ratings.head(2)"
   ]
  },
  {
   "cell_type": "code",
   "execution_count": 10,
   "id": "94f2edca-4788-4de5-8d0b-ea5d5356f2ce",
   "metadata": {},
   "outputs": [
    {
     "data": {
      "text/plain": [
       "0        True\n",
       "1       False\n",
       "2        True\n",
       "3        True\n",
       "4        True\n",
       "        ...  \n",
       "9737     True\n",
       "9738     True\n",
       "9739    False\n",
       "9740    False\n",
       "9741     True\n",
       "Name: genres, Length: 9742, dtype: bool"
      ]
     },
     "execution_count": 10,
     "metadata": {},
     "output_type": "execute_result"
    }
   ],
   "source": [
    "# 장르를 기반으로 필터링\n",
    "movies['genres'].str.contains('Comedy')"
   ]
  },
  {
   "cell_type": "code",
   "execution_count": 18,
   "id": "ac013d3d-dd03-4eba-9b06-d462f1b5ef89",
   "metadata": {},
   "outputs": [
    {
     "data": {
      "text/plain": [
       "0        True\n",
       "1        True\n",
       "2        True\n",
       "3        True\n",
       "4        True\n",
       "        ...  \n",
       "9737    False\n",
       "9738    False\n",
       "9739    False\n",
       "9740    False\n",
       "9741    False\n",
       "Name: title, Length: 9742, dtype: bool"
      ]
     },
     "execution_count": 18,
     "metadata": {},
     "output_type": "execute_result"
    }
   ],
   "source": [
    "# 연도를 기반으로 필터링\n",
    "movies['title'].str.contains('\\\\(1995\\\\)')"
   ]
  },
  {
   "cell_type": "code",
   "execution_count": 13,
   "id": "a06bed74-82f8-40dd-a2a5-1bacc8fa36dc",
   "metadata": {},
   "outputs": [
    {
     "data": {
      "text/plain": [
       "array([     1,      3,      6, ..., 160836, 163937, 163981], dtype=int64)"
      ]
     },
     "execution_count": 13,
     "metadata": {},
     "output_type": "execute_result"
    }
   ],
   "source": [
    "# 평점 정보를 가진 영화 list\n",
    "ratings['movieId'].unique()"
   ]
  },
  {
   "cell_type": "markdown",
   "id": "95585a20-554e-42c3-b92f-9560202f77e6",
   "metadata": {},
   "source": [
    "### 장르와 연도를 기반으로 영화를 추천하는 함수"
   ]
  },
  {
   "cell_type": "code",
   "execution_count": 20,
   "id": "e74ec137-c8a5-491b-888c-ea7614ae9bbe",
   "metadata": {},
   "outputs": [
    {
     "name": "stdout",
     "output_type": "stream",
     "text": [
      "      movieId                                             title  \\\n",
      "0           1                                  Toy Story (1995)   \n",
      "2           3                           Grumpier Old Men (1995)   \n",
      "3           4                          Waiting to Exhale (1995)   \n",
      "4           5                Father of the Bride Part II (1995)   \n",
      "6           7                                    Sabrina (1995)   \n",
      "...       ...                                               ...   \n",
      "5594    26900  Last Wedding, The (Kivenpyörittäjän kylä) (1995)   \n",
      "6159    44241                               Leprechaun 3 (1995)   \n",
      "7978    96608                             Runaway Brain (1995)    \n",
      "8066    99130                              Ice Cream Man (1995)   \n",
      "9453   167772                    The Spirit of Christmas (1995)   \n",
      "\n",
      "                                           genres  \n",
      "0     Adventure|Animation|Children|Comedy|Fantasy  \n",
      "2                                  Comedy|Romance  \n",
      "3                            Comedy|Drama|Romance  \n",
      "4                                          Comedy  \n",
      "6                                  Comedy|Romance  \n",
      "...                                           ...  \n",
      "5594                                 Comedy|Drama  \n",
      "6159                        Comedy|Fantasy|Horror  \n",
      "7978                      Animation|Comedy|Sci-Fi  \n",
      "8066                                Comedy|Horror  \n",
      "9453                             Animation|Comedy  \n",
      "\n",
      "[91 rows x 3 columns]\n"
     ]
    }
   ],
   "source": [
    "def recommend_movies(movies, ratings, preferred_genre=None, year=None):\n",
    "    filtered_movies = movies\n",
    "    \n",
    "    if preferred_genre:\n",
    "        # 장르를 기반으로 필터링합니다.\n",
    "        filtered_movies = filtered_movies[filtered_movies['genres'].str.contains(preferred_genre)]\n",
    "    \n",
    "    if year:\n",
    "        # 연도를 기반으로 필터링합니다. 정규 표현식에서 괄호를 escape 처리합니다.\n",
    "        year_pattern = f'\\\\({year}\\\\)'\n",
    "        filtered_movies = filtered_movies[filtered_movies['title'].str.contains(year_pattern)]\n",
    "    \n",
    "    # 평점 정보를 가진 영화만을 최종적으로 선택합니다.\n",
    "    rated_movie_ids = ratings['movieId'].unique()\n",
    "    filtered_movies = filtered_movies[filtered_movies['movieId'].isin(rated_movie_ids)]\n",
    "    \n",
    "    return filtered_movies\n",
    "\n",
    "# 사용자가 선호하는 장르와 연도를 기반으로 영화 추천 받기\n",
    "recommended_movies = recommend_movies(movies, ratings, preferred_genre='Comedy', year=1995)\n",
    "\n",
    "# 추천된 영화 출력\n",
    "print(recommended_movies)"
   ]
  },
  {
   "cell_type": "code",
   "execution_count": null,
   "id": "f9d621cd-9d07-46e6-869d-c6b533f87a14",
   "metadata": {},
   "outputs": [],
   "source": []
  }
 ],
 "metadata": {
  "kernelspec": {
   "display_name": "Python 3 (ipykernel)",
   "language": "python",
   "name": "python3"
  },
  "language_info": {
   "codemirror_mode": {
    "name": "ipython",
    "version": 3
   },
   "file_extension": ".py",
   "mimetype": "text/x-python",
   "name": "python",
   "nbconvert_exporter": "python",
   "pygments_lexer": "ipython3",
   "version": "3.9.16"
  }
 },
 "nbformat": 4,
 "nbformat_minor": 5
}
