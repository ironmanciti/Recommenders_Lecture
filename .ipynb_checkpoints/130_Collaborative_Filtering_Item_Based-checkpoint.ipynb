{
 "cells": [
  {
   "cell_type": "markdown",
   "id": "0e1d1ef9",
   "metadata": {},
   "source": [
    "# 130. Item-Based Collaborative Filtering (아이템 기반 협업 필터링)\n",
    "\n",
    "### User-Based CF vs Item_Basef CF\n",
    "\n",
    "| 사용자 | 기생충 | 겨울왕국 | 부산행 | 백두산 | \n",
    "| --- | --- |--- |--- | ---|\n",
    "| 철수|4 | 3 | 5 |   |  \n",
    "|영희| |2|1|2|\n",
    "|길동|1|5| | 3| \n",
    "|정숙| | |4|5|\n",
    "\n",
    "<img src=\"https://img1.daumcdn.net/thumb/R1280x0/?scode=mtistory2&fname=https%3A%2F%2Fblog.kakaocdn.net%2Fdn%2FpxM35%2FbtrbAIgrefV%2FKPUOwAAuXRUw5DOaQshNi1%2Fimg.png\" width=\"500\" />\n",
    "\n",
    "### UBCF\n",
    "\n",
    "- 장점 : 각 사용자별로 맞춤형 추천을 하므로 정확한 추천이 가능\n",
    "- 단점 : \n",
    "    - 데이터가 풍부한 경우(구매나 평가 정보) 추천이 가능   \n",
    "    - 데이터가 조금만 바뀌어도 업데이트 필요\n",
    "    \n",
    "\n",
    "### IBCF\n",
    "\n",
    "- 장점 :\n",
    "    - 사용자별로 따로 계산 않으므로 계산 속도가 빠르다.\n",
    "    - 데이터가 조금 바뀌어도 추천 결과에 영향이 크지 않으므로 업데이트를 자주하지 않아도 된다.  \n",
    "    - 대규모 사이트에 적합\n",
    "- 단점 : 정확도는 UBCF 보다 떨어짐"
   ]
  },
  {
   "cell_type": "code",
   "execution_count": 11,
   "id": "129d9ad8",
   "metadata": {},
   "outputs": [],
   "source": [
    "import numpy as np\n",
    "import pandas as pd\n",
    "from sklearn.model_selection import train_test_split\n",
    "from sklearn.metrics import mean_squared_error\n",
    "from sklearn.metrics.pairwise import cosine_similarity\n",
    "\n",
    "i_cols = ['movie_id', 'title', 'release date', 'video release date', 'IMDB URL', 'unknown', \n",
    "          'Action', 'Adventure', 'Animation', 'Children\\'s', 'Comedy', 'Crime', 'Documentary', \n",
    "          'Drama', 'Fantasy', 'Film-Noir', 'Horror', 'Musical', 'Mystery', 'Romance', 'Sci-Fi', \n",
    "          'Thriller', 'War', 'Western']\n",
    "\n",
    "movies = pd.read_csv('data/u.item', sep='|', names=i_cols, encoding='latin-1')\n",
    "\n",
    "r_cols = ['user_id', 'movie_id', 'rating', 'timestamp']\n",
    "ratings = pd.read_csv('data/u.rating', sep='\\t', names=r_cols, encoding='latin-1')"
   ]
  },
  {
   "cell_type": "markdown",
   "id": "8078ca92",
   "metadata": {},
   "source": [
    "- content-based filtering 과 달리 CF 는 similarity 를 이용하므로 item 정보가 필요하지 않기 때문에 movies dataframe에서 title 을 제외한 모든 다른 열을 drop 한다.  \n",
    "\n",
    "- ratings 만을 입력으로 사용"
   ]
  },
  {
   "cell_type": "code",
   "execution_count": 12,
   "id": "27698d42",
   "metadata": {},
   "outputs": [
    {
     "data": {
      "text/html": [
       "<div>\n",
       "<style scoped>\n",
       "    .dataframe tbody tr th:only-of-type {\n",
       "        vertical-align: middle;\n",
       "    }\n",
       "\n",
       "    .dataframe tbody tr th {\n",
       "        vertical-align: top;\n",
       "    }\n",
       "\n",
       "    .dataframe thead th {\n",
       "        text-align: right;\n",
       "    }\n",
       "</style>\n",
       "<table border=\"1\" class=\"dataframe\">\n",
       "  <thead>\n",
       "    <tr style=\"text-align: right;\">\n",
       "      <th></th>\n",
       "      <th>user_id</th>\n",
       "      <th>movie_id</th>\n",
       "      <th>rating</th>\n",
       "    </tr>\n",
       "  </thead>\n",
       "  <tbody>\n",
       "    <tr>\n",
       "      <th>0</th>\n",
       "      <td>196</td>\n",
       "      <td>242</td>\n",
       "      <td>3</td>\n",
       "    </tr>\n",
       "    <tr>\n",
       "      <th>1</th>\n",
       "      <td>186</td>\n",
       "      <td>302</td>\n",
       "      <td>3</td>\n",
       "    </tr>\n",
       "    <tr>\n",
       "      <th>2</th>\n",
       "      <td>22</td>\n",
       "      <td>377</td>\n",
       "      <td>1</td>\n",
       "    </tr>\n",
       "    <tr>\n",
       "      <th>3</th>\n",
       "      <td>244</td>\n",
       "      <td>51</td>\n",
       "      <td>2</td>\n",
       "    </tr>\n",
       "    <tr>\n",
       "      <th>4</th>\n",
       "      <td>166</td>\n",
       "      <td>346</td>\n",
       "      <td>1</td>\n",
       "    </tr>\n",
       "  </tbody>\n",
       "</table>\n",
       "</div>"
      ],
      "text/plain": [
       "   user_id  movie_id  rating\n",
       "0      196       242       3\n",
       "1      186       302       3\n",
       "2       22       377       1\n",
       "3      244        51       2\n",
       "4      166       346       1"
      ]
     },
     "execution_count": 12,
     "metadata": {},
     "output_type": "execute_result"
    }
   ],
   "source": [
    "# timestamp 제거 \n",
    "ratings = ratings.drop('timestamp', axis=1)\n",
    "ratings.head()"
   ]
  },
  {
   "cell_type": "code",
   "execution_count": 13,
   "id": "34626118",
   "metadata": {},
   "outputs": [
    {
     "data": {
      "text/html": [
       "<div>\n",
       "<style scoped>\n",
       "    .dataframe tbody tr th:only-of-type {\n",
       "        vertical-align: middle;\n",
       "    }\n",
       "\n",
       "    .dataframe tbody tr th {\n",
       "        vertical-align: top;\n",
       "    }\n",
       "\n",
       "    .dataframe thead th {\n",
       "        text-align: right;\n",
       "    }\n",
       "</style>\n",
       "<table border=\"1\" class=\"dataframe\">\n",
       "  <thead>\n",
       "    <tr style=\"text-align: right;\">\n",
       "      <th></th>\n",
       "      <th>movie_id</th>\n",
       "      <th>title</th>\n",
       "    </tr>\n",
       "  </thead>\n",
       "  <tbody>\n",
       "    <tr>\n",
       "      <th>0</th>\n",
       "      <td>1</td>\n",
       "      <td>Toy Story (1995)</td>\n",
       "    </tr>\n",
       "    <tr>\n",
       "      <th>1</th>\n",
       "      <td>2</td>\n",
       "      <td>GoldenEye (1995)</td>\n",
       "    </tr>\n",
       "    <tr>\n",
       "      <th>2</th>\n",
       "      <td>3</td>\n",
       "      <td>Four Rooms (1995)</td>\n",
       "    </tr>\n",
       "    <tr>\n",
       "      <th>3</th>\n",
       "      <td>4</td>\n",
       "      <td>Get Shorty (1995)</td>\n",
       "    </tr>\n",
       "    <tr>\n",
       "      <th>4</th>\n",
       "      <td>5</td>\n",
       "      <td>Copycat (1995)</td>\n",
       "    </tr>\n",
       "  </tbody>\n",
       "</table>\n",
       "</div>"
      ],
      "text/plain": [
       "   movie_id              title\n",
       "0         1   Toy Story (1995)\n",
       "1         2   GoldenEye (1995)\n",
       "2         3  Four Rooms (1995)\n",
       "3         4  Get Shorty (1995)\n",
       "4         5     Copycat (1995)"
      ]
     },
     "execution_count": 13,
     "metadata": {},
     "output_type": "execute_result"
    }
   ],
   "source": [
    "# item 정보가 필요하지 않으므로 \n",
    "#movie ID와 title 빼고 다른 데이터 제거\n",
    "movies = movies[['movie_id', 'title']]\n",
    "movies.head()"
   ]
  },
  {
   "cell_type": "code",
   "execution_count": 14,
   "id": "37fbfba4",
   "metadata": {},
   "outputs": [
    {
     "data": {
      "text/plain": [
       "((75000, 3), (25000, 3), (75000,), (25000,))"
      ]
     },
     "execution_count": 14,
     "metadata": {},
     "output_type": "execute_result"
    }
   ],
   "source": [
    "# train, test set 분리\n",
    "X = ratings.copy()\n",
    "y = ratings['user_id']\n",
    "X_train, X_test, y_train, y_test = train_test_split(X, y, test_size=0.25, stratify=y, random_state=0)\n",
    "X_train.shape, X_test.shape, y_train.shape, y_test.shape"
   ]
  },
  {
   "cell_type": "markdown",
   "id": "fbaab7f5",
   "metadata": {},
   "source": [
    "### train 데이터로 Full matrix 구하기 "
   ]
  },
  {
   "cell_type": "code",
   "execution_count": 25,
   "id": "6509c264",
   "metadata": {
    "scrolled": false
   },
   "outputs": [
    {
     "name": "stdout",
     "output_type": "stream",
     "text": [
      "(1638, 943)\n"
     ]
    },
    {
     "data": {
      "text/html": [
       "<div>\n",
       "<style scoped>\n",
       "    .dataframe tbody tr th:only-of-type {\n",
       "        vertical-align: middle;\n",
       "    }\n",
       "\n",
       "    .dataframe tbody tr th {\n",
       "        vertical-align: top;\n",
       "    }\n",
       "\n",
       "    .dataframe thead th {\n",
       "        text-align: right;\n",
       "    }\n",
       "</style>\n",
       "<table border=\"1\" class=\"dataframe\">\n",
       "  <thead>\n",
       "    <tr style=\"text-align: right;\">\n",
       "      <th>user_id</th>\n",
       "      <th>1</th>\n",
       "      <th>2</th>\n",
       "      <th>3</th>\n",
       "      <th>4</th>\n",
       "      <th>5</th>\n",
       "      <th>6</th>\n",
       "      <th>7</th>\n",
       "      <th>8</th>\n",
       "      <th>9</th>\n",
       "      <th>10</th>\n",
       "      <th>...</th>\n",
       "      <th>934</th>\n",
       "      <th>935</th>\n",
       "      <th>936</th>\n",
       "      <th>937</th>\n",
       "      <th>938</th>\n",
       "      <th>939</th>\n",
       "      <th>940</th>\n",
       "      <th>941</th>\n",
       "      <th>942</th>\n",
       "      <th>943</th>\n",
       "    </tr>\n",
       "    <tr>\n",
       "      <th>movie_id</th>\n",
       "      <th></th>\n",
       "      <th></th>\n",
       "      <th></th>\n",
       "      <th></th>\n",
       "      <th></th>\n",
       "      <th></th>\n",
       "      <th></th>\n",
       "      <th></th>\n",
       "      <th></th>\n",
       "      <th></th>\n",
       "      <th></th>\n",
       "      <th></th>\n",
       "      <th></th>\n",
       "      <th></th>\n",
       "      <th></th>\n",
       "      <th></th>\n",
       "      <th></th>\n",
       "      <th></th>\n",
       "      <th></th>\n",
       "      <th></th>\n",
       "      <th></th>\n",
       "    </tr>\n",
       "  </thead>\n",
       "  <tbody>\n",
       "    <tr>\n",
       "      <th>1</th>\n",
       "      <td>5.0</td>\n",
       "      <td>4.0</td>\n",
       "      <td>NaN</td>\n",
       "      <td>NaN</td>\n",
       "      <td>4.0</td>\n",
       "      <td>4.0</td>\n",
       "      <td>NaN</td>\n",
       "      <td>NaN</td>\n",
       "      <td>NaN</td>\n",
       "      <td>4.0</td>\n",
       "      <td>...</td>\n",
       "      <td>2.0</td>\n",
       "      <td>3.0</td>\n",
       "      <td>4.0</td>\n",
       "      <td>NaN</td>\n",
       "      <td>4.0</td>\n",
       "      <td>NaN</td>\n",
       "      <td>NaN</td>\n",
       "      <td>5.0</td>\n",
       "      <td>NaN</td>\n",
       "      <td>NaN</td>\n",
       "    </tr>\n",
       "    <tr>\n",
       "      <th>2</th>\n",
       "      <td>3.0</td>\n",
       "      <td>NaN</td>\n",
       "      <td>NaN</td>\n",
       "      <td>NaN</td>\n",
       "      <td>3.0</td>\n",
       "      <td>NaN</td>\n",
       "      <td>NaN</td>\n",
       "      <td>NaN</td>\n",
       "      <td>NaN</td>\n",
       "      <td>NaN</td>\n",
       "      <td>...</td>\n",
       "      <td>NaN</td>\n",
       "      <td>NaN</td>\n",
       "      <td>NaN</td>\n",
       "      <td>NaN</td>\n",
       "      <td>NaN</td>\n",
       "      <td>NaN</td>\n",
       "      <td>NaN</td>\n",
       "      <td>NaN</td>\n",
       "      <td>NaN</td>\n",
       "      <td>NaN</td>\n",
       "    </tr>\n",
       "    <tr>\n",
       "      <th>3</th>\n",
       "      <td>4.0</td>\n",
       "      <td>NaN</td>\n",
       "      <td>NaN</td>\n",
       "      <td>NaN</td>\n",
       "      <td>NaN</td>\n",
       "      <td>NaN</td>\n",
       "      <td>NaN</td>\n",
       "      <td>NaN</td>\n",
       "      <td>NaN</td>\n",
       "      <td>NaN</td>\n",
       "      <td>...</td>\n",
       "      <td>NaN</td>\n",
       "      <td>NaN</td>\n",
       "      <td>NaN</td>\n",
       "      <td>NaN</td>\n",
       "      <td>NaN</td>\n",
       "      <td>NaN</td>\n",
       "      <td>NaN</td>\n",
       "      <td>NaN</td>\n",
       "      <td>NaN</td>\n",
       "      <td>NaN</td>\n",
       "    </tr>\n",
       "    <tr>\n",
       "      <th>4</th>\n",
       "      <td>3.0</td>\n",
       "      <td>NaN</td>\n",
       "      <td>NaN</td>\n",
       "      <td>NaN</td>\n",
       "      <td>NaN</td>\n",
       "      <td>NaN</td>\n",
       "      <td>NaN</td>\n",
       "      <td>NaN</td>\n",
       "      <td>NaN</td>\n",
       "      <td>4.0</td>\n",
       "      <td>...</td>\n",
       "      <td>5.0</td>\n",
       "      <td>NaN</td>\n",
       "      <td>NaN</td>\n",
       "      <td>NaN</td>\n",
       "      <td>NaN</td>\n",
       "      <td>NaN</td>\n",
       "      <td>2.0</td>\n",
       "      <td>NaN</td>\n",
       "      <td>NaN</td>\n",
       "      <td>NaN</td>\n",
       "    </tr>\n",
       "    <tr>\n",
       "      <th>5</th>\n",
       "      <td>3.0</td>\n",
       "      <td>NaN</td>\n",
       "      <td>NaN</td>\n",
       "      <td>NaN</td>\n",
       "      <td>NaN</td>\n",
       "      <td>NaN</td>\n",
       "      <td>NaN</td>\n",
       "      <td>NaN</td>\n",
       "      <td>NaN</td>\n",
       "      <td>NaN</td>\n",
       "      <td>...</td>\n",
       "      <td>NaN</td>\n",
       "      <td>NaN</td>\n",
       "      <td>NaN</td>\n",
       "      <td>NaN</td>\n",
       "      <td>NaN</td>\n",
       "      <td>NaN</td>\n",
       "      <td>NaN</td>\n",
       "      <td>NaN</td>\n",
       "      <td>NaN</td>\n",
       "      <td>NaN</td>\n",
       "    </tr>\n",
       "    <tr>\n",
       "      <th>...</th>\n",
       "      <td>...</td>\n",
       "      <td>...</td>\n",
       "      <td>...</td>\n",
       "      <td>...</td>\n",
       "      <td>...</td>\n",
       "      <td>...</td>\n",
       "      <td>...</td>\n",
       "      <td>...</td>\n",
       "      <td>...</td>\n",
       "      <td>...</td>\n",
       "      <td>...</td>\n",
       "      <td>...</td>\n",
       "      <td>...</td>\n",
       "      <td>...</td>\n",
       "      <td>...</td>\n",
       "      <td>...</td>\n",
       "      <td>...</td>\n",
       "      <td>...</td>\n",
       "      <td>...</td>\n",
       "      <td>...</td>\n",
       "      <td>...</td>\n",
       "    </tr>\n",
       "    <tr>\n",
       "      <th>1677</th>\n",
       "      <td>NaN</td>\n",
       "      <td>NaN</td>\n",
       "      <td>NaN</td>\n",
       "      <td>NaN</td>\n",
       "      <td>NaN</td>\n",
       "      <td>NaN</td>\n",
       "      <td>NaN</td>\n",
       "      <td>NaN</td>\n",
       "      <td>NaN</td>\n",
       "      <td>NaN</td>\n",
       "      <td>...</td>\n",
       "      <td>NaN</td>\n",
       "      <td>NaN</td>\n",
       "      <td>NaN</td>\n",
       "      <td>NaN</td>\n",
       "      <td>NaN</td>\n",
       "      <td>NaN</td>\n",
       "      <td>NaN</td>\n",
       "      <td>NaN</td>\n",
       "      <td>NaN</td>\n",
       "      <td>NaN</td>\n",
       "    </tr>\n",
       "    <tr>\n",
       "      <th>1679</th>\n",
       "      <td>NaN</td>\n",
       "      <td>NaN</td>\n",
       "      <td>NaN</td>\n",
       "      <td>NaN</td>\n",
       "      <td>NaN</td>\n",
       "      <td>NaN</td>\n",
       "      <td>NaN</td>\n",
       "      <td>NaN</td>\n",
       "      <td>NaN</td>\n",
       "      <td>NaN</td>\n",
       "      <td>...</td>\n",
       "      <td>NaN</td>\n",
       "      <td>NaN</td>\n",
       "      <td>NaN</td>\n",
       "      <td>NaN</td>\n",
       "      <td>NaN</td>\n",
       "      <td>NaN</td>\n",
       "      <td>NaN</td>\n",
       "      <td>NaN</td>\n",
       "      <td>NaN</td>\n",
       "      <td>NaN</td>\n",
       "    </tr>\n",
       "    <tr>\n",
       "      <th>1680</th>\n",
       "      <td>NaN</td>\n",
       "      <td>NaN</td>\n",
       "      <td>NaN</td>\n",
       "      <td>NaN</td>\n",
       "      <td>NaN</td>\n",
       "      <td>NaN</td>\n",
       "      <td>NaN</td>\n",
       "      <td>NaN</td>\n",
       "      <td>NaN</td>\n",
       "      <td>NaN</td>\n",
       "      <td>...</td>\n",
       "      <td>NaN</td>\n",
       "      <td>NaN</td>\n",
       "      <td>NaN</td>\n",
       "      <td>NaN</td>\n",
       "      <td>NaN</td>\n",
       "      <td>NaN</td>\n",
       "      <td>NaN</td>\n",
       "      <td>NaN</td>\n",
       "      <td>NaN</td>\n",
       "      <td>NaN</td>\n",
       "    </tr>\n",
       "    <tr>\n",
       "      <th>1681</th>\n",
       "      <td>NaN</td>\n",
       "      <td>NaN</td>\n",
       "      <td>NaN</td>\n",
       "      <td>NaN</td>\n",
       "      <td>NaN</td>\n",
       "      <td>NaN</td>\n",
       "      <td>NaN</td>\n",
       "      <td>NaN</td>\n",
       "      <td>NaN</td>\n",
       "      <td>NaN</td>\n",
       "      <td>...</td>\n",
       "      <td>NaN</td>\n",
       "      <td>NaN</td>\n",
       "      <td>NaN</td>\n",
       "      <td>NaN</td>\n",
       "      <td>NaN</td>\n",
       "      <td>NaN</td>\n",
       "      <td>NaN</td>\n",
       "      <td>NaN</td>\n",
       "      <td>NaN</td>\n",
       "      <td>NaN</td>\n",
       "    </tr>\n",
       "    <tr>\n",
       "      <th>1682</th>\n",
       "      <td>NaN</td>\n",
       "      <td>NaN</td>\n",
       "      <td>NaN</td>\n",
       "      <td>NaN</td>\n",
       "      <td>NaN</td>\n",
       "      <td>NaN</td>\n",
       "      <td>NaN</td>\n",
       "      <td>NaN</td>\n",
       "      <td>NaN</td>\n",
       "      <td>NaN</td>\n",
       "      <td>...</td>\n",
       "      <td>NaN</td>\n",
       "      <td>NaN</td>\n",
       "      <td>NaN</td>\n",
       "      <td>NaN</td>\n",
       "      <td>NaN</td>\n",
       "      <td>NaN</td>\n",
       "      <td>NaN</td>\n",
       "      <td>NaN</td>\n",
       "      <td>NaN</td>\n",
       "      <td>NaN</td>\n",
       "    </tr>\n",
       "  </tbody>\n",
       "</table>\n",
       "<p>1638 rows × 943 columns</p>\n",
       "</div>"
      ],
      "text/plain": [
       "user_id   1    2    3    4    5    6    7    8    9    10   ...  934  935  \\\n",
       "movie_id                                                    ...             \n",
       "1         5.0  4.0  NaN  NaN  4.0  4.0  NaN  NaN  NaN  4.0  ...  2.0  3.0   \n",
       "2         3.0  NaN  NaN  NaN  3.0  NaN  NaN  NaN  NaN  NaN  ...  NaN  NaN   \n",
       "3         4.0  NaN  NaN  NaN  NaN  NaN  NaN  NaN  NaN  NaN  ...  NaN  NaN   \n",
       "4         3.0  NaN  NaN  NaN  NaN  NaN  NaN  NaN  NaN  4.0  ...  5.0  NaN   \n",
       "5         3.0  NaN  NaN  NaN  NaN  NaN  NaN  NaN  NaN  NaN  ...  NaN  NaN   \n",
       "...       ...  ...  ...  ...  ...  ...  ...  ...  ...  ...  ...  ...  ...   \n",
       "1677      NaN  NaN  NaN  NaN  NaN  NaN  NaN  NaN  NaN  NaN  ...  NaN  NaN   \n",
       "1679      NaN  NaN  NaN  NaN  NaN  NaN  NaN  NaN  NaN  NaN  ...  NaN  NaN   \n",
       "1680      NaN  NaN  NaN  NaN  NaN  NaN  NaN  NaN  NaN  NaN  ...  NaN  NaN   \n",
       "1681      NaN  NaN  NaN  NaN  NaN  NaN  NaN  NaN  NaN  NaN  ...  NaN  NaN   \n",
       "1682      NaN  NaN  NaN  NaN  NaN  NaN  NaN  NaN  NaN  NaN  ...  NaN  NaN   \n",
       "\n",
       "user_id   936  937  938  939  940  941  942  943  \n",
       "movie_id                                          \n",
       "1         4.0  NaN  4.0  NaN  NaN  5.0  NaN  NaN  \n",
       "2         NaN  NaN  NaN  NaN  NaN  NaN  NaN  NaN  \n",
       "3         NaN  NaN  NaN  NaN  NaN  NaN  NaN  NaN  \n",
       "4         NaN  NaN  NaN  NaN  2.0  NaN  NaN  NaN  \n",
       "5         NaN  NaN  NaN  NaN  NaN  NaN  NaN  NaN  \n",
       "...       ...  ...  ...  ...  ...  ...  ...  ...  \n",
       "1677      NaN  NaN  NaN  NaN  NaN  NaN  NaN  NaN  \n",
       "1679      NaN  NaN  NaN  NaN  NaN  NaN  NaN  NaN  \n",
       "1680      NaN  NaN  NaN  NaN  NaN  NaN  NaN  NaN  \n",
       "1681      NaN  NaN  NaN  NaN  NaN  NaN  NaN  NaN  \n",
       "1682      NaN  NaN  NaN  NaN  NaN  NaN  NaN  NaN  \n",
       "\n",
       "[1638 rows x 943 columns]"
      ]
     },
     "execution_count": 25,
     "metadata": {},
     "output_type": "execute_result"
    }
   ],
   "source": [
    "rating_matrix = X_train.pivot(index=\"movie_id\", columns=\"user_id\", values=\"rating\")\n",
    "print(rating_matrix.shape)\n",
    "rating_matrix"
   ]
  },
  {
   "cell_type": "markdown",
   "id": "a7f62b07",
   "metadata": {},
   "source": [
    "### Item-Based CF 알고리즘\n",
    "\n",
    "1) 모든 Item 간의 평가의 유사도를 계산  \n",
    "2) 현재 추천 대상이 되는 아이템과 다른 아이템들의 유사도를 추출  \n",
    "3) 현재 사용자가 평가하지 않은 모든 아이템에 대해서 현재 사용자의 예상 평가 값 계산. 예상 평가 값은 추천하려는 영화와 사용자가 평가한 영화의 유사도로 가중 평균  \n",
    "4) 아이템 중에서 예상 평가 값이 가장 높은 N 개의 아이템을 추천  \n",
    "\n",
    "이때, 추천 대상 영화와 가장 유사도가 높은 K 개의 다른 영화만 반영하여 예측 평가의 품질을 높인다.\n",
    "\n",
    "이를 위해 추천 사용자, 영화 id 를 parameter 로 받아 예상 평점을 반환하는 함수를 작성"
   ]
  },
  {
   "cell_type": "code",
   "execution_count": 26,
   "id": "f5b68233",
   "metadata": {},
   "outputs": [
    {
     "name": "stdout",
     "output_type": "stream",
     "text": [
      "(1638, 1638)\n"
     ]
    },
    {
     "data": {
      "text/html": [
       "<div>\n",
       "<style scoped>\n",
       "    .dataframe tbody tr th:only-of-type {\n",
       "        vertical-align: middle;\n",
       "    }\n",
       "\n",
       "    .dataframe tbody tr th {\n",
       "        vertical-align: top;\n",
       "    }\n",
       "\n",
       "    .dataframe thead th {\n",
       "        text-align: right;\n",
       "    }\n",
       "</style>\n",
       "<table border=\"1\" class=\"dataframe\">\n",
       "  <thead>\n",
       "    <tr style=\"text-align: right;\">\n",
       "      <th>movie_id</th>\n",
       "      <th>1</th>\n",
       "      <th>2</th>\n",
       "      <th>3</th>\n",
       "      <th>4</th>\n",
       "      <th>5</th>\n",
       "      <th>6</th>\n",
       "      <th>7</th>\n",
       "      <th>8</th>\n",
       "      <th>9</th>\n",
       "      <th>10</th>\n",
       "      <th>...</th>\n",
       "      <th>1672</th>\n",
       "      <th>1673</th>\n",
       "      <th>1674</th>\n",
       "      <th>1675</th>\n",
       "      <th>1676</th>\n",
       "      <th>1677</th>\n",
       "      <th>1679</th>\n",
       "      <th>1680</th>\n",
       "      <th>1681</th>\n",
       "      <th>1682</th>\n",
       "    </tr>\n",
       "    <tr>\n",
       "      <th>movie_id</th>\n",
       "      <th></th>\n",
       "      <th></th>\n",
       "      <th></th>\n",
       "      <th></th>\n",
       "      <th></th>\n",
       "      <th></th>\n",
       "      <th></th>\n",
       "      <th></th>\n",
       "      <th></th>\n",
       "      <th></th>\n",
       "      <th></th>\n",
       "      <th></th>\n",
       "      <th></th>\n",
       "      <th></th>\n",
       "      <th></th>\n",
       "      <th></th>\n",
       "      <th></th>\n",
       "      <th></th>\n",
       "      <th></th>\n",
       "      <th></th>\n",
       "      <th></th>\n",
       "    </tr>\n",
       "  </thead>\n",
       "  <tbody>\n",
       "    <tr>\n",
       "      <th>1</th>\n",
       "      <td>1.000000</td>\n",
       "      <td>0.291547</td>\n",
       "      <td>0.270898</td>\n",
       "      <td>0.328703</td>\n",
       "      <td>0.196434</td>\n",
       "      <td>0.096052</td>\n",
       "      <td>0.464825</td>\n",
       "      <td>0.306123</td>\n",
       "      <td>0.367212</td>\n",
       "      <td>0.195947</td>\n",
       "      <td>...</td>\n",
       "      <td>0.053819</td>\n",
       "      <td>0.040364</td>\n",
       "      <td>0.0</td>\n",
       "      <td>0.0</td>\n",
       "      <td>0.0</td>\n",
       "      <td>0.040364</td>\n",
       "      <td>0.0</td>\n",
       "      <td>0.0</td>\n",
       "      <td>0.053819</td>\n",
       "      <td>0.000000</td>\n",
       "    </tr>\n",
       "    <tr>\n",
       "      <th>2</th>\n",
       "      <td>0.291547</td>\n",
       "      <td>1.000000</td>\n",
       "      <td>0.257153</td>\n",
       "      <td>0.398155</td>\n",
       "      <td>0.192962</td>\n",
       "      <td>0.083040</td>\n",
       "      <td>0.327136</td>\n",
       "      <td>0.284269</td>\n",
       "      <td>0.150688</td>\n",
       "      <td>0.126659</td>\n",
       "      <td>...</td>\n",
       "      <td>0.090412</td>\n",
       "      <td>0.000000</td>\n",
       "      <td>0.0</td>\n",
       "      <td>0.0</td>\n",
       "      <td>0.0</td>\n",
       "      <td>0.000000</td>\n",
       "      <td>0.0</td>\n",
       "      <td>0.0</td>\n",
       "      <td>0.090412</td>\n",
       "      <td>0.090412</td>\n",
       "    </tr>\n",
       "    <tr>\n",
       "      <th>3</th>\n",
       "      <td>0.270898</td>\n",
       "      <td>0.257153</td>\n",
       "      <td>1.000000</td>\n",
       "      <td>0.251134</td>\n",
       "      <td>0.205386</td>\n",
       "      <td>0.074995</td>\n",
       "      <td>0.284027</td>\n",
       "      <td>0.124798</td>\n",
       "      <td>0.174688</td>\n",
       "      <td>0.110316</td>\n",
       "      <td>...</td>\n",
       "      <td>0.000000</td>\n",
       "      <td>0.000000</td>\n",
       "      <td>0.0</td>\n",
       "      <td>0.0</td>\n",
       "      <td>0.0</td>\n",
       "      <td>0.037424</td>\n",
       "      <td>0.0</td>\n",
       "      <td>0.0</td>\n",
       "      <td>0.000000</td>\n",
       "      <td>0.112272</td>\n",
       "    </tr>\n",
       "    <tr>\n",
       "      <th>4</th>\n",
       "      <td>0.328703</td>\n",
       "      <td>0.398155</td>\n",
       "      <td>0.251134</td>\n",
       "      <td>1.000000</td>\n",
       "      <td>0.253780</td>\n",
       "      <td>0.043336</td>\n",
       "      <td>0.353637</td>\n",
       "      <td>0.396401</td>\n",
       "      <td>0.288082</td>\n",
       "      <td>0.161575</td>\n",
       "      <td>...</td>\n",
       "      <td>0.062911</td>\n",
       "      <td>0.000000</td>\n",
       "      <td>0.0</td>\n",
       "      <td>0.0</td>\n",
       "      <td>0.0</td>\n",
       "      <td>0.041941</td>\n",
       "      <td>0.0</td>\n",
       "      <td>0.0</td>\n",
       "      <td>0.062911</td>\n",
       "      <td>0.083881</td>\n",
       "    </tr>\n",
       "    <tr>\n",
       "      <th>5</th>\n",
       "      <td>0.196434</td>\n",
       "      <td>0.192962</td>\n",
       "      <td>0.205386</td>\n",
       "      <td>0.253780</td>\n",
       "      <td>1.000000</td>\n",
       "      <td>0.050670</td>\n",
       "      <td>0.284305</td>\n",
       "      <td>0.186362</td>\n",
       "      <td>0.177654</td>\n",
       "      <td>0.040043</td>\n",
       "      <td>...</td>\n",
       "      <td>0.000000</td>\n",
       "      <td>0.000000</td>\n",
       "      <td>0.0</td>\n",
       "      <td>0.0</td>\n",
       "      <td>0.0</td>\n",
       "      <td>0.000000</td>\n",
       "      <td>0.0</td>\n",
       "      <td>0.0</td>\n",
       "      <td>0.000000</td>\n",
       "      <td>0.105540</td>\n",
       "    </tr>\n",
       "    <tr>\n",
       "      <th>...</th>\n",
       "      <td>...</td>\n",
       "      <td>...</td>\n",
       "      <td>...</td>\n",
       "      <td>...</td>\n",
       "      <td>...</td>\n",
       "      <td>...</td>\n",
       "      <td>...</td>\n",
       "      <td>...</td>\n",
       "      <td>...</td>\n",
       "      <td>...</td>\n",
       "      <td>...</td>\n",
       "      <td>...</td>\n",
       "      <td>...</td>\n",
       "      <td>...</td>\n",
       "      <td>...</td>\n",
       "      <td>...</td>\n",
       "      <td>...</td>\n",
       "      <td>...</td>\n",
       "      <td>...</td>\n",
       "      <td>...</td>\n",
       "      <td>...</td>\n",
       "    </tr>\n",
       "    <tr>\n",
       "      <th>1677</th>\n",
       "      <td>0.040364</td>\n",
       "      <td>0.000000</td>\n",
       "      <td>0.037424</td>\n",
       "      <td>0.041941</td>\n",
       "      <td>0.000000</td>\n",
       "      <td>0.000000</td>\n",
       "      <td>0.000000</td>\n",
       "      <td>0.000000</td>\n",
       "      <td>0.083057</td>\n",
       "      <td>0.000000</td>\n",
       "      <td>...</td>\n",
       "      <td>0.000000</td>\n",
       "      <td>0.000000</td>\n",
       "      <td>0.0</td>\n",
       "      <td>0.0</td>\n",
       "      <td>0.0</td>\n",
       "      <td>1.000000</td>\n",
       "      <td>0.0</td>\n",
       "      <td>0.0</td>\n",
       "      <td>0.000000</td>\n",
       "      <td>0.000000</td>\n",
       "    </tr>\n",
       "    <tr>\n",
       "      <th>1679</th>\n",
       "      <td>0.000000</td>\n",
       "      <td>0.000000</td>\n",
       "      <td>0.000000</td>\n",
       "      <td>0.000000</td>\n",
       "      <td>0.000000</td>\n",
       "      <td>0.000000</td>\n",
       "      <td>0.000000</td>\n",
       "      <td>0.000000</td>\n",
       "      <td>0.000000</td>\n",
       "      <td>0.000000</td>\n",
       "      <td>...</td>\n",
       "      <td>0.000000</td>\n",
       "      <td>0.000000</td>\n",
       "      <td>0.0</td>\n",
       "      <td>0.0</td>\n",
       "      <td>0.0</td>\n",
       "      <td>0.000000</td>\n",
       "      <td>1.0</td>\n",
       "      <td>1.0</td>\n",
       "      <td>0.000000</td>\n",
       "      <td>0.000000</td>\n",
       "    </tr>\n",
       "    <tr>\n",
       "      <th>1680</th>\n",
       "      <td>0.000000</td>\n",
       "      <td>0.000000</td>\n",
       "      <td>0.000000</td>\n",
       "      <td>0.000000</td>\n",
       "      <td>0.000000</td>\n",
       "      <td>0.000000</td>\n",
       "      <td>0.000000</td>\n",
       "      <td>0.000000</td>\n",
       "      <td>0.000000</td>\n",
       "      <td>0.000000</td>\n",
       "      <td>...</td>\n",
       "      <td>0.000000</td>\n",
       "      <td>0.000000</td>\n",
       "      <td>0.0</td>\n",
       "      <td>0.0</td>\n",
       "      <td>0.0</td>\n",
       "      <td>0.000000</td>\n",
       "      <td>1.0</td>\n",
       "      <td>1.0</td>\n",
       "      <td>0.000000</td>\n",
       "      <td>0.000000</td>\n",
       "    </tr>\n",
       "    <tr>\n",
       "      <th>1681</th>\n",
       "      <td>0.053819</td>\n",
       "      <td>0.090412</td>\n",
       "      <td>0.000000</td>\n",
       "      <td>0.062911</td>\n",
       "      <td>0.000000</td>\n",
       "      <td>0.000000</td>\n",
       "      <td>0.059642</td>\n",
       "      <td>0.095277</td>\n",
       "      <td>0.066446</td>\n",
       "      <td>0.000000</td>\n",
       "      <td>...</td>\n",
       "      <td>1.000000</td>\n",
       "      <td>0.000000</td>\n",
       "      <td>0.0</td>\n",
       "      <td>0.0</td>\n",
       "      <td>0.0</td>\n",
       "      <td>0.000000</td>\n",
       "      <td>0.0</td>\n",
       "      <td>0.0</td>\n",
       "      <td>1.000000</td>\n",
       "      <td>0.000000</td>\n",
       "    </tr>\n",
       "    <tr>\n",
       "      <th>1682</th>\n",
       "      <td>0.000000</td>\n",
       "      <td>0.090412</td>\n",
       "      <td>0.112272</td>\n",
       "      <td>0.083881</td>\n",
       "      <td>0.105540</td>\n",
       "      <td>0.000000</td>\n",
       "      <td>0.000000</td>\n",
       "      <td>0.000000</td>\n",
       "      <td>0.083057</td>\n",
       "      <td>0.000000</td>\n",
       "      <td>...</td>\n",
       "      <td>0.000000</td>\n",
       "      <td>0.000000</td>\n",
       "      <td>0.0</td>\n",
       "      <td>0.0</td>\n",
       "      <td>0.0</td>\n",
       "      <td>0.000000</td>\n",
       "      <td>0.0</td>\n",
       "      <td>0.0</td>\n",
       "      <td>0.000000</td>\n",
       "      <td>1.000000</td>\n",
       "    </tr>\n",
       "  </tbody>\n",
       "</table>\n",
       "<p>1638 rows × 1638 columns</p>\n",
       "</div>"
      ],
      "text/plain": [
       "movie_id      1         2         3         4         5         6     \\\n",
       "movie_id                                                               \n",
       "1         1.000000  0.291547  0.270898  0.328703  0.196434  0.096052   \n",
       "2         0.291547  1.000000  0.257153  0.398155  0.192962  0.083040   \n",
       "3         0.270898  0.257153  1.000000  0.251134  0.205386  0.074995   \n",
       "4         0.328703  0.398155  0.251134  1.000000  0.253780  0.043336   \n",
       "5         0.196434  0.192962  0.205386  0.253780  1.000000  0.050670   \n",
       "...            ...       ...       ...       ...       ...       ...   \n",
       "1677      0.040364  0.000000  0.037424  0.041941  0.000000  0.000000   \n",
       "1679      0.000000  0.000000  0.000000  0.000000  0.000000  0.000000   \n",
       "1680      0.000000  0.000000  0.000000  0.000000  0.000000  0.000000   \n",
       "1681      0.053819  0.090412  0.000000  0.062911  0.000000  0.000000   \n",
       "1682      0.000000  0.090412  0.112272  0.083881  0.105540  0.000000   \n",
       "\n",
       "movie_id      7         8         9         10    ...      1672      1673  \\\n",
       "movie_id                                          ...                       \n",
       "1         0.464825  0.306123  0.367212  0.195947  ...  0.053819  0.040364   \n",
       "2         0.327136  0.284269  0.150688  0.126659  ...  0.090412  0.000000   \n",
       "3         0.284027  0.124798  0.174688  0.110316  ...  0.000000  0.000000   \n",
       "4         0.353637  0.396401  0.288082  0.161575  ...  0.062911  0.000000   \n",
       "5         0.284305  0.186362  0.177654  0.040043  ...  0.000000  0.000000   \n",
       "...            ...       ...       ...       ...  ...       ...       ...   \n",
       "1677      0.000000  0.000000  0.083057  0.000000  ...  0.000000  0.000000   \n",
       "1679      0.000000  0.000000  0.000000  0.000000  ...  0.000000  0.000000   \n",
       "1680      0.000000  0.000000  0.000000  0.000000  ...  0.000000  0.000000   \n",
       "1681      0.059642  0.095277  0.066446  0.000000  ...  1.000000  0.000000   \n",
       "1682      0.000000  0.000000  0.083057  0.000000  ...  0.000000  0.000000   \n",
       "\n",
       "movie_id  1674  1675  1676      1677  1679  1680      1681      1682  \n",
       "movie_id                                                              \n",
       "1          0.0   0.0   0.0  0.040364   0.0   0.0  0.053819  0.000000  \n",
       "2          0.0   0.0   0.0  0.000000   0.0   0.0  0.090412  0.090412  \n",
       "3          0.0   0.0   0.0  0.037424   0.0   0.0  0.000000  0.112272  \n",
       "4          0.0   0.0   0.0  0.041941   0.0   0.0  0.062911  0.083881  \n",
       "5          0.0   0.0   0.0  0.000000   0.0   0.0  0.000000  0.105540  \n",
       "...        ...   ...   ...       ...   ...   ...       ...       ...  \n",
       "1677       0.0   0.0   0.0  1.000000   0.0   0.0  0.000000  0.000000  \n",
       "1679       0.0   0.0   0.0  0.000000   1.0   1.0  0.000000  0.000000  \n",
       "1680       0.0   0.0   0.0  0.000000   1.0   1.0  0.000000  0.000000  \n",
       "1681       0.0   0.0   0.0  0.000000   0.0   0.0  1.000000  0.000000  \n",
       "1682       0.0   0.0   0.0  0.000000   0.0   0.0  0.000000  1.000000  \n",
       "\n",
       "[1638 rows x 1638 columns]"
      ]
     },
     "execution_count": 26,
     "metadata": {},
     "output_type": "execute_result"
    }
   ],
   "source": [
    "# train set의 모든 가능한 아이템 pair의 Cosine similarities 계산\n",
    "matrix_dummy = rating_matrix.copy().fillna(0)\n",
    "item_similarity = cosine_similarity(matrix_dummy, matrix_dummy)\n",
    "item_similarity = pd.DataFrame(item_similarity, index=rating_matrix.index, columns=rating_matrix.index)\n",
    "print(item_similarity.shape)\n",
    "item_similarity"
   ]
  },
  {
   "cell_type": "markdown",
   "id": "dc319562",
   "metadata": {},
   "source": [
    "현재 추천 대상이 되는 영화와 다른 영화의 유사도를 추출"
   ]
  },
  {
   "cell_type": "code",
   "execution_count": 27,
   "id": "0af4acf0",
   "metadata": {},
   "outputs": [
    {
     "name": "stdout",
     "output_type": "stream",
     "text": [
      "(1638,)\n"
     ]
    },
    {
     "data": {
      "text/plain": [
       "movie_id\n",
       "1    0.306123\n",
       "2    0.284269\n",
       "3    0.124798\n",
       "4    0.396401\n",
       "5    0.186362\n",
       "Name: 8, dtype: float64"
      ]
     },
     "execution_count": 27,
     "metadata": {},
     "output_type": "execute_result"
    }
   ],
   "source": [
    "user_id = 1     # 현재 추천 대상이 되는 사용자\n",
    "movie_id = 8   # 현재 추천 대상이 되는 영화\n",
    "\n",
    "# 현재 영화와 다른 영화의 similarity 값 가져오기\n",
    "sim_scores = item_similarity[movie_id]\n",
    "print(sim_scores.shape)\n",
    "sim_scores.head()"
   ]
  },
  {
   "cell_type": "markdown",
   "id": "06ec0f48",
   "metadata": {},
   "source": [
    "### 추천 대상이 되는 사용자에게 보지 않은 영화를 추천할 때 사용자가 부여할 rating 예측\n",
    "\n",
    "1. 현 사용자의 모든 rating값 가져오기  \n",
    "2. 현 사용자가 평가하지 않은 영화의 index 가져오기\n",
    "3. 현 사용자가 평가하지 않은 영화의 rating (null) 제거 --> 사용자가 평가한 영화만 남김"
   ]
  },
  {
   "cell_type": "code",
   "execution_count": 31,
   "id": "91a878c2",
   "metadata": {},
   "outputs": [
    {
     "name": "stdout",
     "output_type": "stream",
     "text": [
      "(1638,)\n"
     ]
    },
    {
     "data": {
      "text/plain": [
       "movie_id\n",
       "1    5.0\n",
       "2    3.0\n",
       "3    4.0\n",
       "4    3.0\n",
       "5    3.0\n",
       "Name: 1, dtype: float64"
      ]
     },
     "execution_count": 31,
     "metadata": {},
     "output_type": "execute_result"
    }
   ],
   "source": [
    " # 현 사용자의 모든 rating 값 가져오기\n",
    "user_ratings = rating_matrix[user_id]\n",
    "print(user_ratings.shape)\n",
    "user_ratings.head()"
   ]
  },
  {
   "cell_type": "code",
   "execution_count": 32,
   "id": "5c7a2353",
   "metadata": {},
   "outputs": [
    {
     "name": "stdout",
     "output_type": "stream",
     "text": [
      "(1434,)\n"
     ]
    },
    {
     "data": {
      "text/plain": [
       "Int64Index([   8,   12,   15,   16,   25,   29,   34,   37,   41,   46,\n",
       "            ...\n",
       "            1672, 1673, 1674, 1675, 1676, 1677, 1679, 1680, 1681, 1682],\n",
       "           dtype='int64', name='movie_id', length=1434)"
      ]
     },
     "execution_count": 32,
     "metadata": {},
     "output_type": "execute_result"
    }
   ],
   "source": [
    "# 사용자가 평가하지 않은 영화 index 가져오기\n",
    "non_rating_idx = user_ratings[user_ratings.isnull()].index\n",
    "print(non_rating_idx.shape)\n",
    "non_rating_idx"
   ]
  },
  {
   "cell_type": "code",
   "execution_count": 33,
   "id": "11609e8f",
   "metadata": {},
   "outputs": [
    {
     "name": "stdout",
     "output_type": "stream",
     "text": [
      "(204,)\n"
     ]
    },
    {
     "data": {
      "text/plain": [
       "movie_id\n",
       "1    5.0\n",
       "2    3.0\n",
       "3    4.0\n",
       "4    3.0\n",
       "5    3.0\n",
       "Name: 1, dtype: float64"
      ]
     },
     "execution_count": 33,
     "metadata": {},
     "output_type": "execute_result"
    }
   ],
   "source": [
    " # 사용자가 평가하지 않은 영화 제거\n",
    "user_ratings = user_ratings.drop(non_rating_idx)\n",
    "print(user_ratings.shape)\n",
    "user_ratings.head()"
   ]
  },
  {
   "cell_type": "code",
   "execution_count": 34,
   "id": "d759b157",
   "metadata": {},
   "outputs": [
    {
     "name": "stdout",
     "output_type": "stream",
     "text": [
      "(204,)\n"
     ]
    },
    {
     "data": {
      "text/plain": [
       "movie_id\n",
       "1    0.306123\n",
       "2    0.284269\n",
       "3    0.124798\n",
       "4    0.396401\n",
       "5    0.186362\n",
       "Name: 8, dtype: float64"
      ]
     },
     "execution_count": 34,
     "metadata": {},
     "output_type": "execute_result"
    }
   ],
   "source": [
    " # 사용자가 평가하지 않은 영화의 similarity 값 제거\n",
    "sim_scores = sim_scores.drop(non_rating_idx)\n",
    "print(sim_scores.shape)\n",
    "sim_scores.head()"
   ]
  },
  {
   "cell_type": "markdown",
   "id": "6593925e",
   "metadata": {},
   "source": [
    "추천하려는 대상 영화에 대한 예상 rating 계산"
   ]
  },
  {
   "cell_type": "code",
   "execution_count": 35,
   "id": "ccba25cb",
   "metadata": {},
   "outputs": [
    {
     "data": {
      "text/plain": [
       "3.7923458513321173"
      ]
     },
     "execution_count": 35,
     "metadata": {},
     "output_type": "execute_result"
    }
   ],
   "source": [
    "# 추천하려는 영화에 대한 예상 rating 계산, 가중치는 현 영화와 사용자가 평가한 영화의 유사도\n",
    "predicted_rating = np.dot(sim_scores, user_ratings) / sim_scores.sum()\n",
    "predicted_rating"
   ]
  },
  {
   "cell_type": "code",
   "execution_count": 36,
   "id": "5240f42a",
   "metadata": {},
   "outputs": [
    {
     "data": {
      "text/plain": [
       "movie_id\n",
       "261    125\n",
       "262     61\n",
       "263     97\n",
       "264    178\n",
       "266    142\n",
       "267    126\n",
       "269     53\n",
       "270    160\n",
       "271     22\n",
       "272    149\n",
       "Name: 8, dtype: int64"
      ]
     },
     "execution_count": 36,
     "metadata": {},
     "output_type": "execute_result"
    }
   ],
   "source": [
    "# 가장 유사도가 높은 K 영화의  유사도로 가중평균한 rating 구하기\n",
    "K = 10\n",
    "sorted_item_idx = np.argsort(sim_scores)\n",
    "sorted_item_idx[-K:]"
   ]
  },
  {
   "cell_type": "code",
   "execution_count": 38,
   "id": "6f2d8b16",
   "metadata": {},
   "outputs": [
    {
     "data": {
      "text/plain": [
       "array([0.40706372, 0.40858816, 0.41572646, 0.41726409, 0.42294405,\n",
       "       0.4230396 , 0.42776092, 0.43394906, 0.43842876, 0.45214382])"
      ]
     },
     "execution_count": 38,
     "metadata": {},
     "output_type": "execute_result"
    }
   ],
   "source": [
    "sim_scores = sim_scores.values[sorted_item_idx][-K:]\n",
    "sim_scores"
   ]
  },
  {
   "cell_type": "code",
   "execution_count": 40,
   "id": "758708b7",
   "metadata": {},
   "outputs": [
    {
     "data": {
      "text/plain": [
       "array([5., 5., 4., 4., 4., 5., 3., 5., 4., 5.])"
      ]
     },
     "execution_count": 40,
     "metadata": {},
     "output_type": "execute_result"
    }
   ],
   "source": [
    "movie_ratings = user_ratings.values[sorted_item_idx][-K:]\n",
    "movie_ratings"
   ]
  },
  {
   "cell_type": "code",
   "execution_count": 42,
   "id": "b5ffc7c7",
   "metadata": {},
   "outputs": [
    {
     "data": {
      "text/plain": [
       "4.3995902872832495"
      ]
     },
     "execution_count": 42,
     "metadata": {},
     "output_type": "execute_result"
    }
   ],
   "source": [
    "predicted_rating = np.dot(sim_scores, movie_ratings) / sim_scores.sum()\n",
    "predicted_rating"
   ]
  },
  {
   "cell_type": "markdown",
   "id": "8bfb1caa",
   "metadata": {},
   "source": [
    "### 모델 성능 평가 - 모델별 RMSE를 계산하는 함수 \n",
    "- Test set을 이용하여 측정  "
   ]
  },
  {
   "cell_type": "code",
   "execution_count": 43,
   "id": "ab9943c5",
   "metadata": {},
   "outputs": [],
   "source": [
    "def score(model, n_neighbors=0):\n",
    "    id_pairs = zip(X_test['user_id'], X_test['movie_id'])\n",
    "    y_pred = np.array([model(user, movie, n_neighbors) for (user, movie) in id_pairs])\n",
    "    y_true = np.array(X_test['rating'])\n",
    "    return mean_squared_error(y_true, y_pred, squared=True)"
   ]
  },
  {
   "cell_type": "markdown",
   "id": "44e0845b",
   "metadata": {},
   "source": [
    "###  특정 사용자에게 추천하는 영화(movie_id)의  가중평균 rating을 계산하는 함수\n",
    "- 위의 과정을 model 함수로 작성\n",
    "- 위에서 개별 사용자와 아이템에 대해 구하던 predicted_rating을 함수로 작성\n",
    "- 가중치는 주어진 영화와 주어진 사용자가 평가한 영화의 유사도(user_similarity)"
   ]
  },
  {
   "cell_type": "code",
   "execution_count": 44,
   "id": "aac52c24",
   "metadata": {},
   "outputs": [
    {
     "name": "stdout",
     "output_type": "stream",
     "text": [
      "knn 감안하지 않은 simple CF - 모든 아이템 포함\n",
      "1.031842067616898\n",
      "knn 감안한 CF - K 개의 가장 유사한 아이템만 포함\n",
      "0.9667645371046725\n"
     ]
    }
   ],
   "source": [
    "def IBCF_knn_model(user_id, movie_id, n_neighbors=0):\n",
    "    if movie_id in item_similarity:      # 현재 영화가 train set에 있는지 확인\n",
    "        # 현재 영화와 다른 영화의 similarity 값 가져오기\n",
    "        sim_scores = item_similarity[movie_id]\n",
    "        # 현 사용자의 모든 rating 값 가져오기\n",
    "        user_ratings = rating_matrix[user_id]\n",
    "        # 사용자가 평가하지 않은 영화 index 가져오기\n",
    "        non_rating_idx = user_ratings[user_ratings.isnull()].index\n",
    "        # 사용자가 평가하지 않은 영화 제거\n",
    "        user_ratings = user_ratings.drop(non_rating_idx)\n",
    "        # 사용자가 평가하지 않은 영화의 similarity 값 제거\n",
    "        sim_scores = sim_scores.drop(non_rating_idx)\n",
    "\n",
    "        if n_neighbors == 0:   # 모든 item 의 유사도 사용, 가중치는 현 영화와 사용자가 평가한 영화의 유사도\n",
    "            predicted_rating = np.dot(sim_scores, user_ratings) / sim_scores.sum()\n",
    "        else:\n",
    "            if len(sim_scores) > 1: #사용자가 평가한 영화 수가 2 개 이상인 경우만 계산\n",
    "                neighbor_size = min(n_neighbors, len(sim_scores))\n",
    "                sorted_item_idx = np.argsort(sim_scores)\n",
    "                sim_scores = sim_scores.values[sorted_item_idx][-neighbor_size:]\n",
    "                user_ratings = user_ratings.values[sorted_item_idx][-neighbor_size:]\n",
    "                predicted_rating = np.dot(sim_scores, user_ratings) / sim_scores.sum()\n",
    "    else:\n",
    "        predicted_rating = 3.0\n",
    "    return predicted_rating\n",
    "\n",
    "# 정확도 계산\n",
    "print(\"knn 감안하지 않은 simple CF - 모든 아이템 포함\")\n",
    "print(score(IBCF_knn_model, n_neighbors=0))\n",
    "print(\"knn 감안한 CF - K 개의 가장 유사한 아이템만 포함\")\n",
    "print(score(IBCF_knn_model, n_neighbors=30))"
   ]
  },
  {
   "cell_type": "markdown",
   "id": "568d3f01",
   "metadata": {},
   "source": [
    "### 특정 사용자에 대하여 영화 추천"
   ]
  },
  {
   "cell_type": "code",
   "execution_count": 47,
   "id": "4db69558",
   "metadata": {},
   "outputs": [
    {
     "data": {
      "text/plain": [
       "user_id\n",
       "1    5.0\n",
       "2    4.0\n",
       "3    NaN\n",
       "4    NaN\n",
       "5    4.0\n",
       "Name: 1, dtype: float64"
      ]
     },
     "execution_count": 47,
     "metadata": {},
     "output_type": "execute_result"
    }
   ],
   "source": [
    "# 사용자가 평가한 영화 ratings\n",
    "user_id = 1\n",
    "user_movie_ratings = rating_matrix.loc[user_id]\n",
    "user_movie_ratings.head()"
   ]
  },
  {
   "cell_type": "code",
   "execution_count": 48,
   "id": "a3e82701",
   "metadata": {},
   "outputs": [
    {
     "data": {
      "text/plain": [
       "user_id\n",
       "1    5.0\n",
       "2    4.0\n",
       "3    NaN\n",
       "4    NaN\n",
       "5    4.0\n",
       "Name: 1, dtype: float64"
      ]
     },
     "execution_count": 48,
     "metadata": {},
     "output_type": "execute_result"
    }
   ],
   "source": [
    "# 현 사용자가 평가하지 않은 영화의 예상 평점 계산\n",
    "movie_id = 8\n",
    "user_movie_ratings.loc[movie_id] = IBCF_knn_model(user_id, movie_id, n_neighbors=30)\n",
    "user_movie_ratings.head()"
   ]
  },
  {
   "cell_type": "markdown",
   "id": "80852c14",
   "metadata": {},
   "source": [
    "영화를 예상 평점에 따라 정렬해서 제목을 뽑아서 돌려 줌"
   ]
  },
  {
   "cell_type": "code",
   "execution_count": 51,
   "id": "1680d827",
   "metadata": {},
   "outputs": [
    {
     "data": {
      "text/plain": [
       "user_id\n",
       "1      5.0\n",
       "416    5.0\n",
       "343    5.0\n",
       "381    5.0\n",
       "388    5.0\n",
       "Name: 1, dtype: float64"
      ]
     },
     "execution_count": 51,
     "metadata": {},
     "output_type": "execute_result"
    }
   ],
   "source": [
    "movie_ratings_sorted = user_movie_ratings.sort_values(ascending=False)[:5]\n",
    "movie_ratings_sorted"
   ]
  },
  {
   "cell_type": "code",
   "execution_count": 52,
   "id": "42ed3a30",
   "metadata": {},
   "outputs": [
    {
     "data": {
      "text/plain": [
       "user_id\n",
       "1                                       GoldenEye (1995)\n",
       "416                              Parent Trap, The (1961)\n",
       "343                                  Apostle, The (1997)\n",
       "381    Adventures of Priscilla, Queen of the Desert, ...\n",
       "388                                  Black Beauty (1994)\n",
       "Name: title, dtype: object"
      ]
     },
     "execution_count": 52,
     "metadata": {},
     "output_type": "execute_result"
    }
   ],
   "source": [
    "recom_movies = movies.loc[movie_ratings_sorted.index]\n",
    "recommendations = recom_movies['title']\n",
    "recommendations"
   ]
  },
  {
   "cell_type": "markdown",
   "id": "c13c58aa",
   "metadata": {},
   "source": [
    "### 주어진 사용자에 대하여 추천 받는 함수"
   ]
  },
  {
   "cell_type": "code",
   "execution_count": 53,
   "id": "2a7a19cf",
   "metadata": {},
   "outputs": [
    {
     "data": {
      "text/plain": [
       "user_id\n",
       "784          Only You (1994)\n",
       "711           Tin Men (1987)\n",
       "701         Barcelona (1994)\n",
       "45            Exotica (1994)\n",
       "647    Quiet Man, The (1952)\n",
       "Name: title, dtype: object"
      ]
     },
     "execution_count": 53,
     "metadata": {},
     "output_type": "execute_result"
    }
   ],
   "source": [
    "def recom_movie(user_id, n_items, neighbor_size=30):\n",
    "    # 현 사용자가 평가한 영화 ratings 가져오기\n",
    "    user_movie_ratings = rating_matrix.loc[user_id]\n",
    "    \n",
    "    for movie in rating_matrix:       \n",
    "        if pd.notnull(user_movie_ratings.loc[movie]):\n",
    "             # 현 사용자가 이미 평가한 영화는 제외 (평점을 0으로) \n",
    "            user_movie_ratings.loc[movie] = 0\n",
    "        else:\n",
    "            # 현 사용자가 평가하지 않은 영화의 예상 평점 계산\n",
    "            user_movie_ratings.loc[movie] = IBCF_knn_model(user_id, movie, neighbor_size)\n",
    "    # 영화를 예상 평점에 따라 정렬해서 제목을 뽑아서 돌려 줌\n",
    "    movie_sort = user_movie_ratings.sort_values(ascending=False)[:n_items]\n",
    "    recom_movies = movies.loc[movie_sort.index]\n",
    "    recommendations = recom_movies['title']\n",
    "    return recommendations\n",
    "\n",
    "recom_movie(user_id=2, n_items=5, neighbor_size=30)"
   ]
  },
  {
   "cell_type": "markdown",
   "id": "5ab1e277",
   "metadata": {},
   "source": [
    "### 최적의 neighbor size 구하기"
   ]
  },
  {
   "cell_type": "code",
   "execution_count": 54,
   "id": "04163345",
   "metadata": {},
   "outputs": [
    {
     "name": "stdout",
     "output_type": "stream",
     "text": [
      "Neighbor size = 10 : RMSE = 0.9480\n",
      "Neighbor size = 20 : RMSE = 0.9516\n",
      "Neighbor size = 30 : RMSE = 0.9635\n",
      "Neighbor size = 40 : RMSE = 0.9745\n",
      "Neighbor size = 50 : RMSE = 0.9833\n",
      "Neighbor size = 60 : RMSE = 0.9906\n"
     ]
    }
   ],
   "source": [
    "for neighbor_size in [10, 20, 30, 40, 50, 60]:\n",
    "    print(f\"Neighbor size = {neighbor_size} : RMSE = {score(IBCF_knn_model, neighbor_size):.4f}\")"
   ]
  },
  {
   "cell_type": "code",
   "execution_count": null,
   "id": "db3dc4b9",
   "metadata": {},
   "outputs": [],
   "source": []
  }
 ],
 "metadata": {
  "kernelspec": {
   "display_name": "Python 3 (ipykernel)",
   "language": "python",
   "name": "python3"
  },
  "language_info": {
   "codemirror_mode": {
    "name": "ipython",
    "version": 3
   },
   "file_extension": ".py",
   "mimetype": "text/x-python",
   "name": "python",
   "nbconvert_exporter": "python",
   "pygments_lexer": "ipython3",
   "version": "3.8.12"
  }
 },
 "nbformat": 4,
 "nbformat_minor": 5
}
